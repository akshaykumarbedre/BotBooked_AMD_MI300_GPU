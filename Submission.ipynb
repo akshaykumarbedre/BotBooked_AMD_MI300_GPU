{
 "cells": [
  {
   "cell_type": "code",
   "execution_count": 28,
   "id": "6e245323-9f9f-4720-bab7-c99383592d32",
   "metadata": {},
   "outputs": [],
   "source": [
    "from flask import Flask, request, jsonify\n",
    "from threading import Thread\n",
    "import json"
   ]
  },
  {
   "cell_type": "code",
   "execution_count": 29,
   "id": "9a6bf88c-6b2b-46b8-87e9-47b496692557",
   "metadata": {},
   "outputs": [],
   "source": [
    "app = Flask(__name__)\n",
    "received_data = []"
   ]
  },
  {
   "cell_type": "code",
   "execution_count": 30,
   "id": "258cbc0b-107a-4639-ab5f-a21731e194c3",
   "metadata": {},
   "outputs": [],
   "source": [
    "def your_meeting_assistant(data): \n",
    "    from app import builder\n",
    "    graph = builder.compile()\n",
    "    output_data = graph.invoke({\n",
    "        \"user_request\": data\n",
    "    })\n",
    "    return output_data"
   ]
  },
  {
   "cell_type": "code",
   "execution_count": 31,
   "id": "f8a4f048-22da-443c-a2f0-219a723a8dad",
   "metadata": {},
   "outputs": [],
   "source": [
    "@app.route('/receive', methods=['POST'])\n",
    "def receive():\n",
    "    data = request.get_json()\n",
    "    print(f\"\\n Received: {json.dumps(data, indent=2)}\")\n",
    "    new_data = your_meeting_assistant(data)  # Your AI Meeting Assistant Function Call\n",
    "    received_data.append(data)\n",
    "    print(f\"\\n\\n\\n Sending:\\n {json.dumps(new_data, indent=2)}\")\n",
    "    return jsonify(new_data)\n",
    "\n",
    "def run_flask():\n",
    "    app.run(host='0.0.0.0', port=5000)"
   ]
  },
  {
   "cell_type": "code",
   "execution_count": 32,
   "id": "9a603634",
   "metadata": {},
   "outputs": [
    {
     "name": "stdout",
     "output_type": "stream",
     "text": [
      " * Serving Flask app '__main__'\n",
      " * Debug mode: off\n"
     ]
    },
    {
     "name": "stderr",
     "output_type": "stream",
     "text": [
      "Address already in use\n",
      "Port 5000 is in use by another program. Either identify and stop that program, or start the server with a different port.\n"
     ]
    }
   ],
   "source": [
    "# Start Flask in a background thread\n",
    "Thread(target=run_flask, daemon=True).start()"
   ]
  },
  {
   "cell_type": "code",
   "execution_count": 6,
   "id": "d24e08b4-2097-4eae-8eee-bce40fcf6429",
   "metadata": {},
   "outputs": [
    {
     "ename": "IndentationError",
     "evalue": "unexpected indent (753749168.py, line 2)",
     "output_type": "error",
     "traceback": [
      "  \u001b[36mCell\u001b[39m\u001b[36m \u001b[39m\u001b[32mIn[6]\u001b[39m\u001b[32m, line 2\u001b[39m\n\u001b[31m    \u001b[39m\u001b[31m\"Request_id\": \"6118b54f-907b-4451-8d48-dd13d76033a5\",\u001b[39m\n    ^\n\u001b[31mIndentationError\u001b[39m\u001b[31m:\u001b[39m unexpected indent\n"
     ]
    }
   ],
   "source": [
    "!curl -X POST http://localhost:5000/receive \\\n",
    "-H \"Content-Type: application/json\" \\\n",
    "-d '{\n",
    "    \"Request_id\": \"6118b54f-907b-4451-8d48-dd13d76033a5\",\n",
    "    \"Datetime\": \"19-07-2025T12:34:55\",\n",
    "    \"Location\": \"IISc Bangalore\",\n",
    "    \"From\": \"userone.amd@gmail.com\",\n",
    "    \"Attendees\": [\n",
    "        {\n",
    "            \"email\": \"usertwo.amd@gmail.com\"\n",
    "        },\n",
    "        {\n",
    "            \"email\": \"userthree.amd@gmail.com\"\n",
    "        }\n",
    "    ],\n",
    "    \"Subject\": \"Agentic AI Project Status Update\",\n",
    "    \"EmailContent\": \"Hi team, let''s meet on Thursday for 30 minutes to discuss the status of Agentic AI Project.\"\n",
    "}'\n"
   ]
  },
  {
   "cell_type": "code",
   "execution_count": 33,
   "id": "c4a65f67-f217-44fa-8370-7f6f713077fc",
   "metadata": {},
   "outputs": [
    {
     "name": "stdout",
     "output_type": "stream",
     "text": [
      "<!doctype html>\n",
      "<html lang=en>\n",
      "<title>500 Internal Server Error</title>\n",
      "<h1>Internal Server Error</h1>\n",
      "<p>The server encountered an internal error and was unable to complete your request. Either the server is overloaded or there is an error in the application.</p>\n"
     ]
    }
   ],
   "source": [
    "!curl -X POST http://localhost:5000/receive -H \"Content-Type: application/json\" -d '{\"Request_id\": \"6118b54f-907b-4451-8d48-dd13d76033a5\", \"Datetime\": \"19-07-2025T12:34:55\", \"Location\": \"IISc Bangalore\", \"From\": \"userone.amd@gmail.com\", \"Attendees\": [{\"email\": \"usertwo.amd@gmail.com\"}, {\"email\": \"userthree.amd@gmail.com\"}], \"Subject\": \"Agentic AI Project Status Update\", \"EmailContent\": \"Hi team, let''s meet on Thursday for 30 minutes to discuss the status of Agentic AI Project.\"}'\n"
   ]
  },
  {
   "cell_type": "code",
   "execution_count": 25,
   "id": "10bff2fd-4398-470a-9258-273422036e5c",
   "metadata": {},
   "outputs": [],
   "source": [
    "def your_meeting_assistant(data): \n",
    "    from app import builder\n",
    "    graph = builder.compile()\n",
    "    output_data = graph.invoke({\n",
    "        \"user_request\": data\n",
    "    })\n",
    "    return output_data\n",
    "\n",
    "\n",
    "    "
   ]
  },
  {
   "cell_type": "code",
   "execution_count": 12,
   "id": "fa2127ea-3610-47ea-b53d-f6b364e303f4",
   "metadata": {},
   "outputs": [],
   "source": [
    "request_thursday = {\n",
    "     \"Request_id\": \"a2\", \"Datetime\": \"19-07-2025T12:34:55\", \"From\": \"userone.amd@gmail.com\",\n",
    "    \"Attendees\": [{\"email\": \"usertwo.amd@gmail.com\"}, {\"email\": \"userthree.amd@gmail.com\"}],\n",
    "    \"EmailContent\": \"Let's sync up on tommorow for half an hour.\"\n",
    "}\n"
   ]
  },
  {
   "cell_type": "code",
   "execution_count": 26,
   "id": "ea2f0845-95bb-4225-adc5-f5483c7aaf15",
   "metadata": {},
   "outputs": [],
   "source": [
    "request_thursday = {\n",
    "    \"Request_id\": \"6118b54f-907b-4451-8d48-dd13d76033a5\",\n",
    "    \"Datetime\": \"19-07-2025T12:34:55\",\n",
    "    \"Location\": \"IISc Bangalore\",\n",
    "    \"From\": \"userone.amd@gmail.com\",\n",
    "    \"Attendees\": [\n",
    "        {\n",
    "            \"email\": \"usertwo.amd@gmail.com\"\n",
    "        },\n",
    "        {\n",
    "            \"email\": \"userthree.amd@gmail.com\"\n",
    "        }\n",
    "    ],\n",
    "    \"Subject\": \"Agentic AI Project Status Update\",\n",
    "    \"EmailContent\": \"Hi team, let's meet on Thursday for 30 minutes to discuss the status of Agentic AI Project.\"\n",
    "}"
   ]
  },
  {
   "cell_type": "code",
   "execution_count": 27,
   "id": "c29cfadd-6ab5-4b88-931d-2559c30da4f1",
   "metadata": {},
   "outputs": [
    {
     "name": "stdout",
     "output_type": "stream",
     "text": [
      "HERE\n",
      "LLM REsponse {'chain_of_thought': \"Current date: 19-07-2025 (Saturday). 'Thursday' refers to the next Thursday, which is 24-07-2025. No specific time mentioned, so applying defaults: start = 00:00:00, end = 23:59:59. Duration explicitly stated as 30 minutes.\", 'start_date': '24-07-2025T00:00:00', 'end_date': '24-07-2025T23:59:59', 'duration_minutes': 30, 'priority': 3, 'summary': 'Agentic AI Project Status Meeting'}\n",
      "No of exceptions are:  0\n",
      "No of exceptions are:  0\n",
      "No of exceptions are:  0\n",
      "{'user_request': {'Request_id': '6118b54f-907b-4451-8d48-dd13d76033a5', 'Datetime': '19-07-2025T12:34:55', 'Location': 'IISc Bangalore', 'From': 'userone.amd@gmail.com', 'Attendees': [{'email': 'usertwo.amd@gmail.com'}, {'email': 'userthree.amd@gmail.com'}], 'Subject': 'Agentic AI Project Status Update', 'EmailContent': \"Hi team, let's meet on Thursday for 30 minutes to discuss the status of Agentic AI Project.\"}, 'meeting_request_input': {'Request_id': '6118b54f-907b-4451-8d48-dd13d76033a5', 'Datetime': '19-07-2025T12:34:55', 'Location': 'IISc Bangalore', 'From': 'userone.amd@gmail.com', 'Attendees': [{'email': 'usertwo.amd@gmail.com'}, {'email': 'userthree.amd@gmail.com'}], 'Subject': 'Agentic AI Project Status Meeting', 'EmailContent': \"Hi team, let's meet on Thursday for 30 minutes to discuss the status of Agentic AI Project.\", 'start time ': '24-07-2025T00:00:00', 'Duration of meeting': 30, 'Priority': 3}, 'user_calendars_input': {'user1': [{'StartTime': '2025-07-23T18:00:00+05:30', 'EndTime': '2025-07-24T09:00:00+05:30', 'NumAttendees': 1, 'Attendees': ['SELF'], 'Summary': 'Off Hours'}, {'StartTime': '2025-07-24T10:30:00+05:30', 'EndTime': '2025-07-24T11:00:00+05:30', 'NumAttendees': 3, 'Attendees': ['userthree.amd@gmail.com', 'usertwo.amd@gmail.com', 'userone.amd@gmail.com'], 'Summary': 'Agentic AI Project Status Update'}, {'StartTime': '2025-07-24T18:00:00+05:30', 'EndTime': '2025-07-25T09:00:00+05:30', 'NumAttendees': 1, 'Attendees': ['SELF'], 'Summary': 'Off Hours'}], 'user2': [{'StartTime': '2025-07-23T18:00:00+05:30', 'EndTime': '2025-07-24T09:00:00+05:30', 'NumAttendees': 1, 'Attendees': ['SELF'], 'Summary': 'Off Hours'}, {'StartTime': '2025-07-24T10:30:00+05:30', 'EndTime': '2025-07-24T11:00:00+05:30', 'NumAttendees': 3, 'Attendees': ['userthree.amd@gmail.com', 'usertwo.amd@gmail.com', 'userone.amd@gmail.com'], 'Summary': 'Agentic AI Project Status Update'}, {'StartTime': '2025-07-24T18:00:00+05:30', 'EndTime': '2025-07-25T09:00:00+05:30', 'NumAttendees': 1, 'Attendees': ['SELF'], 'Summary': 'Off Hours'}], 'user3': [{'StartTime': '2025-07-23T16:00:00+05:30', 'EndTime': '2025-07-24T07:30:00+05:30', 'NumAttendees': 1, 'Attendees': ['SELF'], 'Summary': 'Off Hours'}, {'StartTime': '2025-07-24T10:30:00+05:30', 'EndTime': '2025-07-24T11:00:00+05:30', 'NumAttendees': 3, 'Attendees': ['userthree.amd@gmail.com', 'usertwo.amd@gmail.com', 'userone.amd@gmail.com'], 'Summary': 'Agentic AI Project Status Update'}, {'StartTime': '2025-07-24T16:00:00+05:30', 'EndTime': '2025-07-25T07:30:00+05:30', 'NumAttendees': 1, 'Attendees': ['SELF'], 'Summary': 'Off Hours'}]}}\n",
      "--- Received new meeting request: 'Agentic AI Project Status Meeting' ---\n",
      "Attempting to book for: user1, user2, user3\n",
      "Required duration: 30 minutes, Priority: P3\n",
      "Searching from: 2025-07-24 00:00 UTC+05:30\n",
      "  Working hours constraint: 8:00 - 18:00\n",
      "  Preference violations for slot 08:00-08:30 (score: 100):\n",
      "    - user1: Outside preferred hours (9-17)\n",
      "    - user2: Outside preferred hours (10-18)\n",
      "\n",
      "Success! Earliest slot found for 'Agentic AI Project Status Meeting':\n",
      "  Start: 2025-07-24 08:00 UTC+05:30+0530\n",
      "  End:   2025-07-24 08:30 UTC+05:30+0530\n",
      "\n",
      "This is a free slot, no rescheduling needed.\n",
      "No of exceptions are:  0\n",
      "No of exceptions are:  0\n",
      "No of exceptions are:  0\n"
     ]
    },
    {
     "data": {
      "text/plain": [
       "{'user_request': {'Request_id': '6118b54f-907b-4451-8d48-dd13d76033a5',\n",
       "  'Datetime': '19-07-2025T12:34:55',\n",
       "  'Location': 'IISc Bangalore',\n",
       "  'From': 'userone.amd@gmail.com',\n",
       "  'Attendees': [{'email': 'usertwo.amd@gmail.com'},\n",
       "   {'email': 'userthree.amd@gmail.com'}],\n",
       "  'Subject': 'Agentic AI Project Status Update',\n",
       "  'EmailContent': \"Hi team, let's meet on Thursday for 30 minutes to discuss the status of Agentic AI Project.\"},\n",
       " 'meeting_request_input': {'Request_id': '6118b54f-907b-4451-8d48-dd13d76033a5',\n",
       "  'Datetime': '19-07-2025T12:34:55',\n",
       "  'Location': 'IISc Bangalore',\n",
       "  'From': 'userone.amd@gmail.com',\n",
       "  'Attendees': [{'email': 'usertwo.amd@gmail.com'},\n",
       "   {'email': 'userthree.amd@gmail.com'}],\n",
       "  'Subject': 'Agentic AI Project Status Meeting',\n",
       "  'EmailContent': \"Hi team, let's meet on Thursday for 30 minutes to discuss the status of Agentic AI Project.\",\n",
       "  'start time ': '24-07-2025T00:00:00',\n",
       "  'Duration of meeting': 30,\n",
       "  'Priority': 3},\n",
       " 'user_calendars_input': {'user1': [{'StartTime': '2025-07-23T18:00:00+05:30',\n",
       "    'EndTime': '2025-07-24T09:00:00+05:30',\n",
       "    'NumAttendees': 1,\n",
       "    'Attendees': ['SELF'],\n",
       "    'Summary': 'Off Hours'},\n",
       "   {'StartTime': '2025-07-24T10:30:00+05:30',\n",
       "    'EndTime': '2025-07-24T11:00:00+05:30',\n",
       "    'NumAttendees': 3,\n",
       "    'Attendees': ['userthree.amd@gmail.com',\n",
       "     'usertwo.amd@gmail.com',\n",
       "     'userone.amd@gmail.com'],\n",
       "    'Summary': 'Agentic AI Project Status Update'},\n",
       "   {'StartTime': '2025-07-24T18:00:00+05:30',\n",
       "    'EndTime': '2025-07-25T09:00:00+05:30',\n",
       "    'NumAttendees': 1,\n",
       "    'Attendees': ['SELF'],\n",
       "    'Summary': 'Off Hours'}],\n",
       "  'user2': [{'StartTime': '2025-07-23T18:00:00+05:30',\n",
       "    'EndTime': '2025-07-24T09:00:00+05:30',\n",
       "    'NumAttendees': 1,\n",
       "    'Attendees': ['SELF'],\n",
       "    'Summary': 'Off Hours'},\n",
       "   {'StartTime': '2025-07-24T10:30:00+05:30',\n",
       "    'EndTime': '2025-07-24T11:00:00+05:30',\n",
       "    'NumAttendees': 3,\n",
       "    'Attendees': ['userthree.amd@gmail.com',\n",
       "     'usertwo.amd@gmail.com',\n",
       "     'userone.amd@gmail.com'],\n",
       "    'Summary': 'Agentic AI Project Status Update'},\n",
       "   {'StartTime': '2025-07-24T18:00:00+05:30',\n",
       "    'EndTime': '2025-07-25T09:00:00+05:30',\n",
       "    'NumAttendees': 1,\n",
       "    'Attendees': ['SELF'],\n",
       "    'Summary': 'Off Hours'}],\n",
       "  'user3': [{'StartTime': '2025-07-23T16:00:00+05:30',\n",
       "    'EndTime': '2025-07-24T07:30:00+05:30',\n",
       "    'NumAttendees': 1,\n",
       "    'Attendees': ['SELF'],\n",
       "    'Summary': 'Off Hours'},\n",
       "   {'StartTime': '2025-07-24T10:30:00+05:30',\n",
       "    'EndTime': '2025-07-24T11:00:00+05:30',\n",
       "    'NumAttendees': 3,\n",
       "    'Attendees': ['userthree.amd@gmail.com',\n",
       "     'usertwo.amd@gmail.com',\n",
       "     'userone.amd@gmail.com'],\n",
       "    'Summary': 'Agentic AI Project Status Update'},\n",
       "   {'StartTime': '2025-07-24T16:00:00+05:30',\n",
       "    'EndTime': '2025-07-25T07:30:00+05:30',\n",
       "    'NumAttendees': 1,\n",
       "    'Attendees': ['SELF'],\n",
       "    'Summary': 'Off Hours'}]},\n",
       " 'scheduled_meeting': {'success': True,\n",
       "  'meetings': [{'Subject': 'Agentic AI Project Status Meeting',\n",
       "    'EmailContent': \"Hi team, let's meet on Thursday for 30 minutes to discuss the status of Agentic AI Project.\",\n",
       "    'EventStart': '2025-07-24T08:00:00+05:30',\n",
       "    'EventEnd': '2025-07-24T08:30:00+05:30',\n",
       "    'Duration_mins': '30',\n",
       "    'MetaData': {'priority': 3,\n",
       "     'fallback_used': None,\n",
       "     'newly_scheduled': True}}],\n",
       "  'rescheduling_required': False,\n",
       "  'fallback_used': None,\n",
       "  'fallback_details': {}},\n",
       " 'final_output': {'Request_id': '6118b54f-907b-4451-8d48-dd13d76033a5',\n",
       "  'Datetime': '19-07-2025T12:34:55',\n",
       "  'Location': 'IISc Bangalore',\n",
       "  'From': 'userone.amd@gmail.com',\n",
       "  'Attendees': [{'email': 'userone.amd@gmail.com',\n",
       "    'events': [{'StartTime': '2025-07-23T18:00:00+05:30',\n",
       "      'EndTime': '2025-07-24T09:00:00+05:30',\n",
       "      'NumAttendees': 1,\n",
       "      'Attendees': ['SELF'],\n",
       "      'Summary': 'Off Hours'},\n",
       "     {'StartTime': '2025-07-24T10:30:00+05:30',\n",
       "      'EndTime': '2025-07-24T11:00:00+05:30',\n",
       "      'NumAttendees': 3,\n",
       "      'Attendees': ['userthree.amd@gmail.com',\n",
       "       'usertwo.amd@gmail.com',\n",
       "       'userone.amd@gmail.com'],\n",
       "      'Summary': 'Agentic AI Project Status Update'},\n",
       "     {'StartTime': '2025-07-24T18:00:00+05:30',\n",
       "      'EndTime': '2025-07-25T09:00:00+05:30',\n",
       "      'NumAttendees': 1,\n",
       "      'Attendees': ['SELF'],\n",
       "      'Summary': 'Off Hours'}]},\n",
       "   {'email': 'usertwo.amd@gmail.com',\n",
       "    'events': [{'StartTime': '2025-07-23T18:00:00+05:30',\n",
       "      'EndTime': '2025-07-24T09:00:00+05:30',\n",
       "      'NumAttendees': 1,\n",
       "      'Attendees': ['SELF'],\n",
       "      'Summary': 'Off Hours'},\n",
       "     {'StartTime': '2025-07-24T10:30:00+05:30',\n",
       "      'EndTime': '2025-07-24T11:00:00+05:30',\n",
       "      'NumAttendees': 3,\n",
       "      'Attendees': ['userthree.amd@gmail.com',\n",
       "       'usertwo.amd@gmail.com',\n",
       "       'userone.amd@gmail.com'],\n",
       "      'Summary': 'Agentic AI Project Status Update'},\n",
       "     {'StartTime': '2025-07-24T18:00:00+05:30',\n",
       "      'EndTime': '2025-07-25T09:00:00+05:30',\n",
       "      'NumAttendees': 1,\n",
       "      'Attendees': ['SELF'],\n",
       "      'Summary': 'Off Hours'}]},\n",
       "   {'email': 'userthree.amd@gmail.com',\n",
       "    'events': [{'StartTime': '2025-07-23T16:00:00+05:30',\n",
       "      'EndTime': '2025-07-24T07:30:00+05:30',\n",
       "      'NumAttendees': 1,\n",
       "      'Attendees': ['SELF'],\n",
       "      'Summary': 'Off Hours'},\n",
       "     {'StartTime': '2025-07-24T10:30:00+05:30',\n",
       "      'EndTime': '2025-07-24T11:00:00+05:30',\n",
       "      'NumAttendees': 3,\n",
       "      'Attendees': ['userthree.amd@gmail.com',\n",
       "       'usertwo.amd@gmail.com',\n",
       "       'userone.amd@gmail.com'],\n",
       "      'Summary': 'Agentic AI Project Status Update'},\n",
       "     {'StartTime': '2025-07-24T16:00:00+05:30',\n",
       "      'EndTime': '2025-07-25T07:30:00+05:30',\n",
       "      'NumAttendees': 1,\n",
       "      'Attendees': ['SELF'],\n",
       "      'Summary': 'Off Hours'}]}],\n",
       "  'Subject': 'Agentic AI Project Status Meeting',\n",
       "  'EmailContent': \"Hi team, let's meet on Thursday for 30 minutes to discuss the status of Agentic AI Project.\",\n",
       "  'start time ': '24-07-2025T00:00:00',\n",
       "  'Duration of meeting': 30,\n",
       "  'Priority': 3,\n",
       "  'EventStart': '2025-07-24T08:00:00+05:30',\n",
       "  'EventEnd': '2025-07-24T08:30:00+05:30',\n",
       "  'Duration_mins': 30,\n",
       "  'metadata': {}}}"
      ]
     },
     "execution_count": 27,
     "metadata": {},
     "output_type": "execute_result"
    }
   ],
   "source": [
    "your_meeting_assistant(request_thursday)"
   ]
  },
  {
   "cell_type": "code",
   "execution_count": null,
   "id": "120049da-e674-4eb0-b6e7-b3bc1d8de43d",
   "metadata": {},
   "outputs": [],
   "source": []
  },
  {
   "cell_type": "code",
   "execution_count": null,
   "id": "2a251a0c-0a11-42b2-913f-01e099fe1b7a",
   "metadata": {},
   "outputs": [],
   "source": []
  }
 ],
 "metadata": {
  "kernelspec": {
   "display_name": "Python 3 (ipykernel)",
   "language": "python",
   "name": "python3"
  },
  "language_info": {
   "codemirror_mode": {
    "name": "ipython",
    "version": 3
   },
   "file_extension": ".py",
   "mimetype": "text/x-python",
   "name": "python",
   "nbconvert_exporter": "python",
   "pygments_lexer": "ipython3",
   "version": "3.12.10"
  }
 },
 "nbformat": 4,
 "nbformat_minor": 5
}
