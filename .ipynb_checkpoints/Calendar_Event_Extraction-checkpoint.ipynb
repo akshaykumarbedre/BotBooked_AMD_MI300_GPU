{
 "cells": [
  {
   "cell_type": "markdown",
   "id": "ad70f19d",
   "metadata": {},
   "source": [
    "# Google Calendar Event Fetcher\n",
    "\n",
    "#### The Notebook demonstrates how to programmatically retrieve and process Google Calendar events for a given user and date range.\n",
    "\n",
    "##### Key Steps:\n",
    "\n",
    "Authentication: Load user credentials from a token file.\n",
    "\n",
    "API Call: Fetch events between specified start/end dates using the Google Calendar API.\n",
    "\n",
    "Data Processing: Extract event details (start/end times, attendees) and structure them into a clean format.\n",
    "\n",
    "Output: Return a list of events with attendee counts and time slots.\n",
    "```"
   ]
  },
  {
   "cell_type": "markdown",
   "id": "4411255e",
   "metadata": {},
   "source": [
    "### Importing Required Libraries"
   ]
  },
  {
   "cell_type": "code",
   "execution_count": 114,
   "id": "1c82ee6f",
   "metadata": {},
   "outputs": [],
   "source": [
    "import json\n",
    "from datetime import datetime, timezone, timedelta\n",
    "from google.oauth2.credentials import Credentials\n",
    "from googleapiclient.discovery import build"
   ]
  },
  {
   "cell_type": "markdown",
   "id": "e4e1d252",
   "metadata": {},
   "source": [
    "### Defining the retrive_calendar_events Function that includes : \n",
    "#### 1. Authenticating with Google Calendar\n",
    "#### 2. Fetching Events\n",
    "#### 3. Processing Events & Structuring"
   ]
  },
  {
   "cell_type": "code",
   "execution_count": 115,
   "id": "a71a3470",
   "metadata": {},
   "outputs": [],
   "source": [
    "def retrive_calendar_events(user, start, end):\n",
    "    events_list = []\n",
    "    token_path = \"Keys/\"+user.split(\"@\")[0]+\".token\"\n",
    "    user_creds = Credentials.from_authorized_user_file(token_path)\n",
    "    calendar_service = build(\"calendar\", \"v3\", credentials=user_creds)\n",
    "    events_result = calendar_service.events().list(calendarId='primary', timeMin=start,timeMax=end,singleEvents=True,orderBy='startTime').execute()\n",
    "    events = events_result.get('items')\n",
    "\n",
    "    count=0\n",
    "    for event in events : \n",
    "        attendee_list = []\n",
    "        try:\n",
    "            for attendee in event[\"attendees\"]: \n",
    "                attendee_list.append(attendee['email'])\n",
    "        except: \n",
    "            attendee_list.append(\"SELF\")\n",
    "        try:\n",
    "            start_time = event[\"start\"][\"dateTime\"]\n",
    "            end_time = event[\"end\"][\"dateTime\"]\n",
    "            events_list.append(\n",
    "                {\"StartTime\" : start_time, \n",
    "                 \"EndTime\": end_time, \n",
    "                 \"NumAttendees\" :len(set(attendee_list)), \n",
    "                 \"Attendees\" : list(set(attendee_list)),\n",
    "                 \"Summary\" : event[\"summary\"]})\n",
    "        except Exception as E:\n",
    "            count+=1\n",
    "    print('No of exceptions are: ',count)\n",
    "    return events_list"
   ]
  },
  {
   "cell_type": "markdown",
   "id": "e2c46704",
   "metadata": {},
   "source": [
    "### Calling ```retrive_calendar_events``` with Auth Token, Start Date & End Date \n",
    "#### Date Format : YYYY-MM-DD (T) HH:MM:SS +TIMEZONE (+5:30 Indicates IST Time Zone Asia/Kolkata ) "
   ]
  },
  {
   "cell_type": "markdown",
   "id": "2eff8718-643c-447e-89c7-d218b603d12c",
   "metadata": {},
   "source": [
    "### For User One"
   ]
  },
  {
   "cell_type": "code",
   "execution_count": 116,
   "id": "8a76b494",
   "metadata": {},
   "outputs": [
    {
     "name": "stdout",
     "output_type": "stream",
     "text": [
      "No of exceptions are:  0\n"
     ]
    }
   ],
   "source": [
    "event = retrive_calendar_events(\"userone.amd@gmail.com\", \"2025-07-24T00:00:00+05:30\", \"2025-07-24T11:59:59+05:30\")"
   ]
  },
  {
   "cell_type": "markdown",
   "id": "3d59631a",
   "metadata": {},
   "source": [
    "### Output that describing sample event : "
   ]
  },
  {
   "cell_type": "code",
   "execution_count": 117,
   "id": "c0adca3c",
   "metadata": {},
   "outputs": [
    {
     "data": {
      "text/plain": [
       "[{'StartTime': '2025-07-23T18:00:00+05:30',\n",
       "  'EndTime': '2025-07-24T09:00:00+05:30',\n",
       "  'NumAttendees': 1,\n",
       "  'Attendees': ['SELF'],\n",
       "  'Summary': 'Off Hours'},\n",
       " {'StartTime': '2025-07-24T09:00:00+05:30',\n",
       "  'EndTime': '2025-07-24T09:30:00+05:30',\n",
       "  'NumAttendees': 3,\n",
       "  'Attendees': ['userone.amd@gmail.com',\n",
       "   'usertwo.amd@gmail.com',\n",
       "   'userthree.amd@gmail.com'],\n",
       "  'Summary': 'Agentic AI Project Status Update'}]"
      ]
     },
     "execution_count": 117,
     "metadata": {},
     "output_type": "execute_result"
    }
   ],
   "source": [
    "event"
   ]
  },
  {
   "cell_type": "code",
   "execution_count": 70,
   "id": "65cce1c0",
   "metadata": {},
   "outputs": [
    {
     "data": {
      "text/plain": [
       "{'StartTime': '2026-01-07T18:00:00+05:30',\n",
       " 'EndTime': '2026-01-08T09:00:00+05:30',\n",
       " 'NumAttendees': 1,\n",
       " 'Attendees': ['SELF'],\n",
       " 'Summary': 'Off Hours'}"
      ]
     },
     "execution_count": 70,
     "metadata": {},
     "output_type": "execute_result"
    }
   ],
   "source": [
    "event[-1]"
   ]
  },
  {
   "cell_type": "code",
   "execution_count": 71,
   "id": "d2936c53-e639-486c-90c9-3002c7e221d0",
   "metadata": {},
   "outputs": [
    {
     "data": {
      "text/plain": [
       "195"
      ]
     },
     "execution_count": 71,
     "metadata": {},
     "output_type": "execute_result"
    }
   ],
   "source": [
    "len(event)"
   ]
  },
  {
   "cell_type": "code",
   "execution_count": 72,
   "id": "c7293b8f-b289-4718-8e8a-db882be9e4eb",
   "metadata": {},
   "outputs": [
    {
     "data": {
      "text/plain": [
       "{'Off Hours', 'Project Updates - Monthly', 'Team Meet'}"
      ]
     },
     "execution_count": 72,
     "metadata": {},
     "output_type": "execute_result"
    }
   ],
   "source": [
    "summaries = set()\n",
    "for e in event:\n",
    "    summaries.add(e['Summary'])\n",
    "\n",
    "summaries"
   ]
  },
  {
   "cell_type": "markdown",
   "id": "f8858ac8-e76d-4932-9d3c-dedfd4b988e0",
   "metadata": {},
   "source": [
    "### For User Two"
   ]
  },
  {
   "cell_type": "code",
   "execution_count": 73,
   "id": "ec9cad25-33a2-439d-b554-55766e563af5",
   "metadata": {},
   "outputs": [
    {
     "name": "stdout",
     "output_type": "stream",
     "text": [
      "No of exceptions are:  56\n"
     ]
    }
   ],
   "source": [
    "event = retrive_calendar_events(\"usertwo.amd@gmail.com\", '2023-07-17T00:00:00+05:30', '2026-07-17T23:59:59+05:30')"
   ]
  },
  {
   "cell_type": "markdown",
   "id": "f33cb7a3-bee3-46d1-b78d-68c7a08796e4",
   "metadata": {},
   "source": [
    "### Output that describing sample event : "
   ]
  },
  {
   "cell_type": "code",
   "execution_count": 74,
   "id": "cf630d1c-9778-4519-af28-47c92fbed9fb",
   "metadata": {},
   "outputs": [
    {
     "data": {
      "text/plain": [
       "{'StartTime': '2025-06-22T18:00:00+05:30',\n",
       " 'EndTime': '2025-06-23T09:00:00+05:30',\n",
       " 'NumAttendees': 1,\n",
       " 'Attendees': ['SELF'],\n",
       " 'Summary': 'Off Hours'}"
      ]
     },
     "execution_count": 74,
     "metadata": {},
     "output_type": "execute_result"
    }
   ],
   "source": [
    "event[0]"
   ]
  },
  {
   "cell_type": "code",
   "execution_count": 75,
   "id": "e4e6d9a0-be5f-4b44-911e-cea2e83dad42",
   "metadata": {},
   "outputs": [
    {
     "data": {
      "text/plain": [
       "{'StartTime': '2025-12-27T18:00:00+05:30',\n",
       " 'EndTime': '2025-12-28T09:00:00+05:30',\n",
       " 'NumAttendees': 1,\n",
       " 'Attendees': ['SELF'],\n",
       " 'Summary': 'Off Hours'}"
      ]
     },
     "execution_count": 75,
     "metadata": {},
     "output_type": "execute_result"
    }
   ],
   "source": [
    "event[-1]"
   ]
  },
  {
   "cell_type": "code",
   "execution_count": 76,
   "id": "be37c593-ef30-444d-b7fa-7b8e8cf5405e",
   "metadata": {},
   "outputs": [
    {
     "data": {
      "text/plain": [
       "194"
      ]
     },
     "execution_count": 76,
     "metadata": {},
     "output_type": "execute_result"
    }
   ],
   "source": [
    "len(event)"
   ]
  },
  {
   "cell_type": "code",
   "execution_count": 77,
   "id": "6af033d5-11b3-4f4a-9aca-77b16cdb765d",
   "metadata": {},
   "outputs": [
    {
     "data": {
      "text/plain": [
       "{'AMD AI Workshop',\n",
       " 'Client Meeting - IMPORTANT',\n",
       " 'Off Hours',\n",
       " 'Team Meet',\n",
       " 'Workshop - AI Agents',\n",
       " 'Workshop Advance AI'}"
      ]
     },
     "execution_count": 77,
     "metadata": {},
     "output_type": "execute_result"
    }
   ],
   "source": [
    "summaries = set()\n",
    "for e in event:\n",
    "    summaries.add(e['Summary'])\n",
    "\n",
    "summaries"
   ]
  },
  {
   "cell_type": "markdown",
   "id": "844da7d4-1895-44a4-973c-09dadf14b25f",
   "metadata": {},
   "source": [
    "### For User Three"
   ]
  },
  {
   "cell_type": "code",
   "execution_count": 105,
   "id": "28dc437b-4ed2-4a8d-b74a-991d3d2086d9",
   "metadata": {},
   "outputs": [
    {
     "name": "stdout",
     "output_type": "stream",
     "text": [
      "No of exceptions are:  8\n"
     ]
    }
   ],
   "source": [
    "event = retrive_calendar_events(\"userthree.amd@gmail.com\", '2025-06-16T00:00:00+05:30', '2025-07-17T23:59:59+05:30')"
   ]
  },
  {
   "cell_type": "markdown",
   "id": "544e3dcc-a0cd-454e-853d-e935a22b74da",
   "metadata": {},
   "source": [
    "### Output that describing sample event : "
   ]
  },
  {
   "cell_type": "code",
   "execution_count": 106,
   "id": "c2678595-bb6c-4853-8350-b940b81a6855",
   "metadata": {
    "scrolled": true
   },
   "outputs": [
    {
     "data": {
      "text/plain": [
       "[{'StartTime': '2025-06-15T16:00:00+05:30',\n",
       "  'EndTime': '2025-06-16T07:30:00+05:30',\n",
       "  'NumAttendees': 1,\n",
       "  'Attendees': ['SELF'],\n",
       "  'Summary': 'Off Hours'},\n",
       " {'StartTime': '2025-06-16T16:00:00+05:30',\n",
       "  'EndTime': '2025-06-17T07:30:00+05:30',\n",
       "  'NumAttendees': 1,\n",
       "  'Attendees': ['SELF'],\n",
       "  'Summary': 'Off Hours'},\n",
       " {'StartTime': '2025-06-17T16:00:00+05:30',\n",
       "  'EndTime': '2025-06-18T07:30:00+05:30',\n",
       "  'NumAttendees': 1,\n",
       "  'Attendees': ['SELF'],\n",
       "  'Summary': 'Off Hours'},\n",
       " {'StartTime': '2025-06-18T16:00:00+05:30',\n",
       "  'EndTime': '2025-06-19T07:30:00+05:30',\n",
       "  'NumAttendees': 1,\n",
       "  'Attendees': ['SELF'],\n",
       "  'Summary': 'Off Hours'},\n",
       " {'StartTime': '2025-06-19T16:00:00+05:30',\n",
       "  'EndTime': '2025-06-20T07:30:00+05:30',\n",
       "  'NumAttendees': 1,\n",
       "  'Attendees': ['SELF'],\n",
       "  'Summary': 'Off Hours'},\n",
       " {'StartTime': '2025-06-20T16:00:00+05:30',\n",
       "  'EndTime': '2025-06-21T07:30:00+05:30',\n",
       "  'NumAttendees': 1,\n",
       "  'Attendees': ['SELF'],\n",
       "  'Summary': 'Off Hours'},\n",
       " {'StartTime': '2025-06-21T16:00:00+05:30',\n",
       "  'EndTime': '2025-06-22T07:30:00+05:30',\n",
       "  'NumAttendees': 1,\n",
       "  'Attendees': ['SELF'],\n",
       "  'Summary': 'Off Hours'},\n",
       " {'StartTime': '2025-06-22T16:00:00+05:30',\n",
       "  'EndTime': '2025-06-23T07:30:00+05:30',\n",
       "  'NumAttendees': 1,\n",
       "  'Attendees': ['SELF'],\n",
       "  'Summary': 'Off Hours'},\n",
       " {'StartTime': '2025-06-23T16:00:00+05:30',\n",
       "  'EndTime': '2025-06-24T07:30:00+05:30',\n",
       "  'NumAttendees': 1,\n",
       "  'Attendees': ['SELF'],\n",
       "  'Summary': 'Off Hours'},\n",
       " {'StartTime': '2025-06-24T16:00:00+05:30',\n",
       "  'EndTime': '2025-06-25T07:30:00+05:30',\n",
       "  'NumAttendees': 1,\n",
       "  'Attendees': ['SELF'],\n",
       "  'Summary': 'Off Hours'},\n",
       " {'StartTime': '2025-06-25T16:00:00+05:30',\n",
       "  'EndTime': '2025-06-26T07:30:00+05:30',\n",
       "  'NumAttendees': 1,\n",
       "  'Attendees': ['SELF'],\n",
       "  'Summary': 'Off Hours'},\n",
       " {'StartTime': '2025-06-26T16:00:00+05:30',\n",
       "  'EndTime': '2025-06-27T07:30:00+05:30',\n",
       "  'NumAttendees': 1,\n",
       "  'Attendees': ['SELF'],\n",
       "  'Summary': 'Off Hours'},\n",
       " {'StartTime': '2025-06-27T16:00:00+05:30',\n",
       "  'EndTime': '2025-06-28T07:30:00+05:30',\n",
       "  'NumAttendees': 1,\n",
       "  'Attendees': ['SELF'],\n",
       "  'Summary': 'Off Hours'},\n",
       " {'StartTime': '2025-06-28T16:00:00+05:30',\n",
       "  'EndTime': '2025-06-29T07:30:00+05:30',\n",
       "  'NumAttendees': 1,\n",
       "  'Attendees': ['SELF'],\n",
       "  'Summary': 'Off Hours'},\n",
       " {'StartTime': '2025-06-29T16:00:00+05:30',\n",
       "  'EndTime': '2025-06-30T07:30:00+05:30',\n",
       "  'NumAttendees': 1,\n",
       "  'Attendees': ['SELF'],\n",
       "  'Summary': 'Off Hours'},\n",
       " {'StartTime': '2025-06-30T16:00:00+05:30',\n",
       "  'EndTime': '2025-07-01T07:30:00+05:30',\n",
       "  'NumAttendees': 1,\n",
       "  'Attendees': ['SELF'],\n",
       "  'Summary': 'Off Hours'},\n",
       " {'StartTime': '2025-07-01T16:00:00+05:30',\n",
       "  'EndTime': '2025-07-02T07:30:00+05:30',\n",
       "  'NumAttendees': 1,\n",
       "  'Attendees': ['SELF'],\n",
       "  'Summary': 'Off Hours'},\n",
       " {'StartTime': '2025-07-02T16:00:00+05:30',\n",
       "  'EndTime': '2025-07-03T07:30:00+05:30',\n",
       "  'NumAttendees': 1,\n",
       "  'Attendees': ['SELF'],\n",
       "  'Summary': 'Off Hours'},\n",
       " {'StartTime': '2025-07-03T16:00:00+05:30',\n",
       "  'EndTime': '2025-07-04T07:30:00+05:30',\n",
       "  'NumAttendees': 1,\n",
       "  'Attendees': ['SELF'],\n",
       "  'Summary': 'Off Hours'},\n",
       " {'StartTime': '2025-07-04T16:00:00+05:30',\n",
       "  'EndTime': '2025-07-05T07:30:00+05:30',\n",
       "  'NumAttendees': 1,\n",
       "  'Attendees': ['SELF'],\n",
       "  'Summary': 'Off Hours'},\n",
       " {'StartTime': '2025-07-05T16:00:00+05:30',\n",
       "  'EndTime': '2025-07-06T07:30:00+05:30',\n",
       "  'NumAttendees': 1,\n",
       "  'Attendees': ['SELF'],\n",
       "  'Summary': 'Off Hours'},\n",
       " {'StartTime': '2025-07-06T16:00:00+05:30',\n",
       "  'EndTime': '2025-07-07T07:30:00+05:30',\n",
       "  'NumAttendees': 1,\n",
       "  'Attendees': ['SELF'],\n",
       "  'Summary': 'Off Hours'},\n",
       " {'StartTime': '2025-07-07T16:00:00+05:30',\n",
       "  'EndTime': '2025-07-08T07:30:00+05:30',\n",
       "  'NumAttendees': 1,\n",
       "  'Attendees': ['SELF'],\n",
       "  'Summary': 'Off Hours'},\n",
       " {'StartTime': '2025-07-08T16:00:00+05:30',\n",
       "  'EndTime': '2025-07-09T07:30:00+05:30',\n",
       "  'NumAttendees': 1,\n",
       "  'Attendees': ['SELF'],\n",
       "  'Summary': 'Off Hours'},\n",
       " {'StartTime': '2025-07-09T16:00:00+05:30',\n",
       "  'EndTime': '2025-07-10T07:30:00+05:30',\n",
       "  'NumAttendees': 1,\n",
       "  'Attendees': ['SELF'],\n",
       "  'Summary': 'Off Hours'},\n",
       " {'StartTime': '2025-07-10T16:00:00+05:30',\n",
       "  'EndTime': '2025-07-11T07:30:00+05:30',\n",
       "  'NumAttendees': 1,\n",
       "  'Attendees': ['SELF'],\n",
       "  'Summary': 'Off Hours'},\n",
       " {'StartTime': '2025-07-11T09:00:00+05:30',\n",
       "  'EndTime': '2025-07-11T17:00:00+05:30',\n",
       "  'NumAttendees': 1,\n",
       "  'Attendees': ['SELF'],\n",
       "  'Summary': 'Workshop Advance AI'},\n",
       " {'StartTime': '2025-07-11T16:00:00+05:30',\n",
       "  'EndTime': '2025-07-12T07:30:00+05:30',\n",
       "  'NumAttendees': 1,\n",
       "  'Attendees': ['SELF'],\n",
       "  'Summary': 'Off Hours'},\n",
       " {'StartTime': '2025-07-12T16:00:00+05:30',\n",
       "  'EndTime': '2025-07-13T07:30:00+05:30',\n",
       "  'NumAttendees': 1,\n",
       "  'Attendees': ['SELF'],\n",
       "  'Summary': 'Off Hours'},\n",
       " {'StartTime': '2025-07-13T16:00:00+05:30',\n",
       "  'EndTime': '2025-07-14T07:30:00+05:30',\n",
       "  'NumAttendees': 1,\n",
       "  'Attendees': ['SELF'],\n",
       "  'Summary': 'Off Hours'},\n",
       " {'StartTime': '2025-07-14T09:00:00+05:30',\n",
       "  'EndTime': '2025-07-14T10:00:00+05:30',\n",
       "  'NumAttendees': 1,\n",
       "  'Attendees': ['SELF'],\n",
       "  'Summary': '1V1 Team Member'},\n",
       " {'StartTime': '2025-07-14T14:00:00+05:30',\n",
       "  'EndTime': '2025-07-14T15:00:00+05:30',\n",
       "  'NumAttendees': 3,\n",
       "  'Attendees': ['userone.amd@gmail.com',\n",
       "   'usertwo.amd@gmail.com',\n",
       "   'userthree.amd@gmail.com'],\n",
       "  'Summary': 'Team Meet'},\n",
       " {'StartTime': '2025-07-14T16:00:00+05:30',\n",
       "  'EndTime': '2025-07-15T07:30:00+05:30',\n",
       "  'NumAttendees': 1,\n",
       "  'Attendees': ['SELF'],\n",
       "  'Summary': 'Off Hours'},\n",
       " {'StartTime': '2025-07-15T09:00:00+05:30',\n",
       "  'EndTime': '2025-07-15T16:00:00+05:30',\n",
       "  'NumAttendees': 1,\n",
       "  'Attendees': ['SELF'],\n",
       "  'Summary': 'AMD AI Workshop'},\n",
       " {'StartTime': '2025-07-15T16:00:00+05:30',\n",
       "  'EndTime': '2025-07-16T07:30:00+05:30',\n",
       "  'NumAttendees': 1,\n",
       "  'Attendees': ['SELF'],\n",
       "  'Summary': 'Off Hours'},\n",
       " {'StartTime': '2025-07-16T10:00:00+05:30',\n",
       "  'EndTime': '2025-07-16T11:00:00+05:30',\n",
       "  'NumAttendees': 1,\n",
       "  'Attendees': ['SELF'],\n",
       "  'Summary': 'Customer Call - Quarterly update'},\n",
       " {'StartTime': '2025-07-16T16:00:00+05:30',\n",
       "  'EndTime': '2025-07-17T07:30:00+05:30',\n",
       "  'NumAttendees': 1,\n",
       "  'Attendees': ['SELF'],\n",
       "  'Summary': 'Off Hours'},\n",
       " {'StartTime': '2025-07-17T16:00:00+05:30',\n",
       "  'EndTime': '2025-07-18T07:30:00+05:30',\n",
       "  'NumAttendees': 1,\n",
       "  'Attendees': ['SELF'],\n",
       "  'Summary': 'Off Hours'}]"
      ]
     },
     "execution_count": 106,
     "metadata": {},
     "output_type": "execute_result"
    }
   ],
   "source": [
    "event"
   ]
  },
  {
   "cell_type": "code",
   "execution_count": 80,
   "id": "588c4add-5417-4f77-b945-21f221962717",
   "metadata": {},
   "outputs": [
    {
     "data": {
      "text/plain": [
       "{'StartTime': '2025-11-24T16:00:00+05:30',\n",
       " 'EndTime': '2025-11-25T07:30:00+05:30',\n",
       " 'NumAttendees': 1,\n",
       " 'Attendees': ['SELF'],\n",
       " 'Summary': 'Off Hours'}"
      ]
     },
     "execution_count": 80,
     "metadata": {},
     "output_type": "execute_result"
    }
   ],
   "source": [
    "event[-1]"
   ]
  },
  {
   "cell_type": "code",
   "execution_count": 81,
   "id": "d0c08148-ebd0-458f-a3e5-fc3d53c6dffc",
   "metadata": {},
   "outputs": [
    {
     "data": {
      "text/plain": [
       "184"
      ]
     },
     "execution_count": 81,
     "metadata": {},
     "output_type": "execute_result"
    }
   ],
   "source": [
    "len(event)"
   ]
  },
  {
   "cell_type": "code",
   "execution_count": 82,
   "id": "14378c68-d88e-4cc9-a030-116adbc2bb7b",
   "metadata": {},
   "outputs": [
    {
     "data": {
      "text/plain": [
       "{'1V1 Team Member',\n",
       " '1v1 with Team Member',\n",
       " 'AMD AI Workshop',\n",
       " 'Customer Call - Quarterly update',\n",
       " 'Off Hours',\n",
       " 'Team Meet',\n",
       " 'Workshop - AI Agents',\n",
       " 'Workshop Advance AI'}"
      ]
     },
     "execution_count": 82,
     "metadata": {},
     "output_type": "execute_result"
    }
   ],
   "source": [
    "summaries = set()\n",
    "for e in event:\n",
    "    summaries.add(e['Summary'])\n",
    "\n",
    "summaries"
   ]
  },
  {
   "cell_type": "code",
   "execution_count": 111,
   "id": "f46bc1a9-2dc0-449f-8d9c-d72ce5f6b3a6",
   "metadata": {},
   "outputs": [
    {
     "name": "stdout",
     "output_type": "stream",
     "text": [
      "Requirement already satisfied: langchain-openai in /usr/local/lib/python3.12/dist-packages (0.3.28)\n",
      "Requirement already satisfied: langchain-core<1.0.0,>=0.3.68 in /usr/local/lib/python3.12/dist-packages (from langchain-openai) (0.3.69)\n",
      "Requirement already satisfied: openai<2.0.0,>=1.86.0 in /usr/local/lib/python3.12/dist-packages (from langchain-openai) (1.97.0)\n",
      "Requirement already satisfied: tiktoken<1,>=0.7 in /usr/local/lib/python3.12/dist-packages (from langchain-openai) (0.9.0)\n",
      "Requirement already satisfied: langsmith>=0.3.45 in /usr/local/lib/python3.12/dist-packages (from langchain-core<1.0.0,>=0.3.68->langchain-openai) (0.3.45)\n",
      "Requirement already satisfied: tenacity!=8.4.0,<10.0.0,>=8.1.0 in /usr/local/lib/python3.12/dist-packages (from langchain-core<1.0.0,>=0.3.68->langchain-openai) (9.1.2)\n",
      "Requirement already satisfied: jsonpatch<2.0,>=1.33 in /usr/local/lib/python3.12/dist-packages (from langchain-core<1.0.0,>=0.3.68->langchain-openai) (1.33)\n",
      "Requirement already satisfied: PyYAML>=5.3 in /usr/local/lib/python3.12/dist-packages (from langchain-core<1.0.0,>=0.3.68->langchain-openai) (6.0.2)\n",
      "Requirement already satisfied: typing-extensions>=4.7 in /usr/local/lib/python3.12/dist-packages (from langchain-core<1.0.0,>=0.3.68->langchain-openai) (4.13.2)\n",
      "Requirement already satisfied: packaging>=23.2 in /usr/local/lib/python3.12/dist-packages (from langchain-core<1.0.0,>=0.3.68->langchain-openai) (24.2)\n",
      "Requirement already satisfied: pydantic>=2.7.4 in /usr/local/lib/python3.12/dist-packages (from langchain-core<1.0.0,>=0.3.68->langchain-openai) (2.11.4)\n",
      "Requirement already satisfied: jsonpointer>=1.9 in /usr/local/lib/python3.12/dist-packages (from jsonpatch<2.0,>=1.33->langchain-core<1.0.0,>=0.3.68->langchain-openai) (3.0.0)\n",
      "Requirement already satisfied: anyio<5,>=3.5.0 in /usr/local/lib/python3.12/dist-packages (from openai<2.0.0,>=1.86.0->langchain-openai) (4.9.0)\n",
      "Requirement already satisfied: distro<2,>=1.7.0 in /usr/lib/python3/dist-packages (from openai<2.0.0,>=1.86.0->langchain-openai) (1.7.0)\n",
      "Requirement already satisfied: httpx<1,>=0.23.0 in /usr/local/lib/python3.12/dist-packages (from openai<2.0.0,>=1.86.0->langchain-openai) (0.28.1)\n",
      "Requirement already satisfied: jiter<1,>=0.4.0 in /usr/local/lib/python3.12/dist-packages (from openai<2.0.0,>=1.86.0->langchain-openai) (0.10.0)\n",
      "Requirement already satisfied: sniffio in /usr/local/lib/python3.12/dist-packages (from openai<2.0.0,>=1.86.0->langchain-openai) (1.3.1)\n",
      "Requirement already satisfied: tqdm>4 in /usr/local/lib/python3.12/dist-packages (from openai<2.0.0,>=1.86.0->langchain-openai) (4.67.1)\n",
      "Requirement already satisfied: idna>=2.8 in /usr/local/lib/python3.12/dist-packages (from anyio<5,>=3.5.0->openai<2.0.0,>=1.86.0->langchain-openai) (3.10)\n",
      "Requirement already satisfied: certifi in /usr/local/lib/python3.12/dist-packages (from httpx<1,>=0.23.0->openai<2.0.0,>=1.86.0->langchain-openai) (2025.4.26)\n",
      "Requirement already satisfied: httpcore==1.* in /usr/local/lib/python3.12/dist-packages (from httpx<1,>=0.23.0->openai<2.0.0,>=1.86.0->langchain-openai) (1.0.9)\n",
      "Requirement already satisfied: h11>=0.16 in /usr/local/lib/python3.12/dist-packages (from httpcore==1.*->httpx<1,>=0.23.0->openai<2.0.0,>=1.86.0->langchain-openai) (0.16.0)\n",
      "Requirement already satisfied: annotated-types>=0.6.0 in /usr/local/lib/python3.12/dist-packages (from pydantic>=2.7.4->langchain-core<1.0.0,>=0.3.68->langchain-openai) (0.7.0)\n",
      "Requirement already satisfied: pydantic-core==2.33.2 in /usr/local/lib/python3.12/dist-packages (from pydantic>=2.7.4->langchain-core<1.0.0,>=0.3.68->langchain-openai) (2.33.2)\n",
      "Requirement already satisfied: typing-inspection>=0.4.0 in /usr/local/lib/python3.12/dist-packages (from pydantic>=2.7.4->langchain-core<1.0.0,>=0.3.68->langchain-openai) (0.4.0)\n",
      "Requirement already satisfied: regex>=2022.1.18 in /usr/local/lib/python3.12/dist-packages (from tiktoken<1,>=0.7->langchain-openai) (2024.11.6)\n",
      "Requirement already satisfied: requests>=2.26.0 in /usr/local/lib/python3.12/dist-packages (from tiktoken<1,>=0.7->langchain-openai) (2.32.3)\n",
      "Requirement already satisfied: orjson<4.0.0,>=3.9.14 in /usr/local/lib/python3.12/dist-packages (from langsmith>=0.3.45->langchain-core<1.0.0,>=0.3.68->langchain-openai) (3.10.18)\n",
      "Requirement already satisfied: requests-toolbelt<2.0.0,>=1.0.0 in /usr/local/lib/python3.12/dist-packages (from langsmith>=0.3.45->langchain-core<1.0.0,>=0.3.68->langchain-openai) (1.0.0)\n",
      "Requirement already satisfied: zstandard<0.24.0,>=0.23.0 in /usr/local/lib/python3.12/dist-packages (from langsmith>=0.3.45->langchain-core<1.0.0,>=0.3.68->langchain-openai) (0.23.0)\n",
      "Requirement already satisfied: charset-normalizer<4,>=2 in /usr/local/lib/python3.12/dist-packages (from requests>=2.26.0->tiktoken<1,>=0.7->langchain-openai) (3.4.2)\n",
      "Requirement already satisfied: urllib3<3,>=1.21.1 in /usr/local/lib/python3.12/dist-packages (from requests>=2.26.0->tiktoken<1,>=0.7->langchain-openai) (2.4.0)\n",
      "\u001b[33mWARNING: Running pip as the 'root' user can result in broken permissions and conflicting behaviour with the system package manager, possibly rendering your system unusable. It is recommended to use a virtual environment instead: https://pip.pypa.io/warnings/venv. Use the --root-user-action option if you know what you are doing and want to suppress this warning.\u001b[0m\u001b[33m\n",
      "\u001b[0mRequirement already satisfied: langgraph in /usr/local/lib/python3.12/dist-packages (0.5.3)\n",
      "Requirement already satisfied: langchain-core>=0.1 in /usr/local/lib/python3.12/dist-packages (from langgraph) (0.3.69)\n",
      "Requirement already satisfied: langgraph-checkpoint<3.0.0,>=2.1.0 in /usr/local/lib/python3.12/dist-packages (from langgraph) (2.1.1)\n",
      "Requirement already satisfied: langgraph-prebuilt<0.6.0,>=0.5.0 in /usr/local/lib/python3.12/dist-packages (from langgraph) (0.5.2)\n",
      "Requirement already satisfied: langgraph-sdk<0.2.0,>=0.1.42 in /usr/local/lib/python3.12/dist-packages (from langgraph) (0.1.73)\n",
      "Requirement already satisfied: pydantic>=2.7.4 in /usr/local/lib/python3.12/dist-packages (from langgraph) (2.11.4)\n",
      "Requirement already satisfied: xxhash>=3.5.0 in /usr/local/lib/python3.12/dist-packages (from langgraph) (3.5.0)\n",
      "Requirement already satisfied: ormsgpack>=1.10.0 in /usr/local/lib/python3.12/dist-packages (from langgraph-checkpoint<3.0.0,>=2.1.0->langgraph) (1.10.0)\n",
      "Requirement already satisfied: httpx>=0.25.2 in /usr/local/lib/python3.12/dist-packages (from langgraph-sdk<0.2.0,>=0.1.42->langgraph) (0.28.1)\n",
      "Requirement already satisfied: orjson>=3.10.1 in /usr/local/lib/python3.12/dist-packages (from langgraph-sdk<0.2.0,>=0.1.42->langgraph) (3.10.18)\n",
      "Requirement already satisfied: anyio in /usr/local/lib/python3.12/dist-packages (from httpx>=0.25.2->langgraph-sdk<0.2.0,>=0.1.42->langgraph) (4.9.0)\n",
      "Requirement already satisfied: certifi in /usr/local/lib/python3.12/dist-packages (from httpx>=0.25.2->langgraph-sdk<0.2.0,>=0.1.42->langgraph) (2025.4.26)\n",
      "Requirement already satisfied: httpcore==1.* in /usr/local/lib/python3.12/dist-packages (from httpx>=0.25.2->langgraph-sdk<0.2.0,>=0.1.42->langgraph) (1.0.9)\n",
      "Requirement already satisfied: idna in /usr/local/lib/python3.12/dist-packages (from httpx>=0.25.2->langgraph-sdk<0.2.0,>=0.1.42->langgraph) (3.10)\n",
      "Requirement already satisfied: h11>=0.16 in /usr/local/lib/python3.12/dist-packages (from httpcore==1.*->httpx>=0.25.2->langgraph-sdk<0.2.0,>=0.1.42->langgraph) (0.16.0)\n",
      "Requirement already satisfied: langsmith>=0.3.45 in /usr/local/lib/python3.12/dist-packages (from langchain-core>=0.1->langgraph) (0.3.45)\n",
      "Requirement already satisfied: tenacity!=8.4.0,<10.0.0,>=8.1.0 in /usr/local/lib/python3.12/dist-packages (from langchain-core>=0.1->langgraph) (9.1.2)\n",
      "Requirement already satisfied: jsonpatch<2.0,>=1.33 in /usr/local/lib/python3.12/dist-packages (from langchain-core>=0.1->langgraph) (1.33)\n",
      "Requirement already satisfied: PyYAML>=5.3 in /usr/local/lib/python3.12/dist-packages (from langchain-core>=0.1->langgraph) (6.0.2)\n",
      "Requirement already satisfied: typing-extensions>=4.7 in /usr/local/lib/python3.12/dist-packages (from langchain-core>=0.1->langgraph) (4.13.2)\n",
      "Requirement already satisfied: packaging>=23.2 in /usr/local/lib/python3.12/dist-packages (from langchain-core>=0.1->langgraph) (24.2)\n",
      "Requirement already satisfied: jsonpointer>=1.9 in /usr/local/lib/python3.12/dist-packages (from jsonpatch<2.0,>=1.33->langchain-core>=0.1->langgraph) (3.0.0)\n",
      "Requirement already satisfied: requests<3,>=2 in /usr/local/lib/python3.12/dist-packages (from langsmith>=0.3.45->langchain-core>=0.1->langgraph) (2.32.3)\n",
      "Requirement already satisfied: requests-toolbelt<2.0.0,>=1.0.0 in /usr/local/lib/python3.12/dist-packages (from langsmith>=0.3.45->langchain-core>=0.1->langgraph) (1.0.0)\n",
      "Requirement already satisfied: zstandard<0.24.0,>=0.23.0 in /usr/local/lib/python3.12/dist-packages (from langsmith>=0.3.45->langchain-core>=0.1->langgraph) (0.23.0)\n",
      "Requirement already satisfied: annotated-types>=0.6.0 in /usr/local/lib/python3.12/dist-packages (from pydantic>=2.7.4->langgraph) (0.7.0)\n",
      "Requirement already satisfied: pydantic-core==2.33.2 in /usr/local/lib/python3.12/dist-packages (from pydantic>=2.7.4->langgraph) (2.33.2)\n",
      "Requirement already satisfied: typing-inspection>=0.4.0 in /usr/local/lib/python3.12/dist-packages (from pydantic>=2.7.4->langgraph) (0.4.0)\n",
      "Requirement already satisfied: charset-normalizer<4,>=2 in /usr/local/lib/python3.12/dist-packages (from requests<3,>=2->langsmith>=0.3.45->langchain-core>=0.1->langgraph) (3.4.2)\n",
      "Requirement already satisfied: urllib3<3,>=1.21.1 in /usr/local/lib/python3.12/dist-packages (from requests<3,>=2->langsmith>=0.3.45->langchain-core>=0.1->langgraph) (2.4.0)\n",
      "Requirement already satisfied: sniffio>=1.1 in /usr/local/lib/python3.12/dist-packages (from anyio->httpx>=0.25.2->langgraph-sdk<0.2.0,>=0.1.42->langgraph) (1.3.1)\n",
      "\u001b[33mWARNING: Running pip as the 'root' user can result in broken permissions and conflicting behaviour with the system package manager, possibly rendering your system unusable. It is recommended to use a virtual environment instead: https://pip.pypa.io/warnings/venv. Use the --root-user-action option if you know what you are doing and want to suppress this warning.\u001b[0m\u001b[33m\n",
      "\u001b[0m"
     ]
    }
   ],
   "source": [
    "!pip install langchain-openai\n",
    "!pip install langgraph"
   ]
  },
  {
   "cell_type": "code",
   "execution_count": 113,
   "id": "c3484c1e-a9db-4cc3-9d0d-5bf940361e25",
   "metadata": {},
   "outputs": [
    {
     "ename": "SyntaxError",
     "evalue": "invalid syntax (2743489386.py, line 1)",
     "output_type": "error",
     "traceback": [
      "  \u001b[36mCell\u001b[39m\u001b[36m \u001b[39m\u001b[32mIn[113]\u001b[39m\u001b[32m, line 1\u001b[39m\n\u001b[31m    \u001b[39m\u001b[31mfrom langchain-openai import ChatOpenAI\u001b[39m\n                  ^\n\u001b[31mSyntaxError\u001b[39m\u001b[31m:\u001b[39m invalid syntax\n"
     ]
    }
   ],
   "source": [
    "from langchain-openai import ChatOpenAI\n",
    "\n",
    "llm = ChatOpenAI(\n",
    "        model=\"/home/user/Models/meta-llama/Meta-Llama-3.1-8B-Instruct\",\n",
    "        temperature=0.1,\n",
    "        max_tokens=None,\n",
    "        timeout=None,\n",
    "        max_retries=2,\n",
    "        api_key=\"abc-123\",  # if you prefer to pass api key in directly instaed of using env vars\n",
    "        base_url=\"http://localhost:4000/v1/\",\n",
    "\n",
    "        # organization=\"...\",\n",
    "        # other params..\n",
    "    )"
   ]
  },
  {
   "cell_type": "code",
   "execution_count": null,
   "id": "84d0e83c-9dec-4152-b9a5-7e382734b56c",
   "metadata": {},
   "outputs": [],
   "source": []
  },
  {
   "cell_type": "code",
   "execution_count": null,
   "id": "ae91cdd4-e425-43f1-b656-867d6a76292c",
   "metadata": {},
   "outputs": [],
   "source": [
    "from typing import List\n",
    "import json\n",
    "import requests\n",
    "from datetime import datetime, timedelta\n",
    "\n",
    "# Import necessary Google API client libraries - assuming they are installed\n",
    "import json\n",
    "from datetime import datetime, timezone, timedelta\n",
    "from google.oauth2.credentials import Credentials\n",
    "from googleapiclient.discovery import build\n",
    "\n",
    "# --- Define Tools (Functions the AI Agent can use) ---\n",
    "\n",
    "# Tool 1: Google Calendar Event Fetcher Wrapper\n",
    "def fetch_calendar_events_tool(attendee_email: str, start_date_str: str, end_date_str: str) -> List[dict]:\n",
    "    \"\"\"\n",
    "    Fetches calendar events for a given attendee within a date range using the provided retrieval function.\n",
    "    \"\"\"\n",
    "    print(f\"DEBUG: Calling fetch_calendar_events_tool for {attendee_email} from {start_date_str} to {end_date_str}\")\n",
    "    \n",
    "    events_list = []\n",
    "    token_path = \"Keys/\"+attendee_email.split(\"@\")[0]+\".token\"\n",
    "    user_creds = Credentials.from_authorized_user_file(token_path)\n",
    "    calendar_service = build(\"calendar\", \"v3\", credentials=user_creds)\n",
    "    events_result = calendar_service.events().list(calendarId='primary', timeMin=start,timeMax=end,singleEvents=True,orderBy='startTime').execute()\n",
    "    events = events_result.get('items')\n",
    "\n",
    "    count=0\n",
    "    for event in events : \n",
    "        attendee_list = []\n",
    "        try:\n",
    "            for attendee in event[\"attendees\"]: \n",
    "                attendee_list.append(attendee['email'])\n",
    "        except: \n",
    "            attendee_list.append(\"SELF\")\n",
    "        try:\n",
    "            start_time = event[\"start\"][\"dateTime\"]\n",
    "            end_time = event[\"end\"][\"dateTime\"]\n",
    "            events_list.append(\n",
    "                {\"StartTime\" : start_time, \n",
    "                 \"EndTime\": end_time, \n",
    "                 \"NumAttendees\" :len(set(attendee_list)), \n",
    "                 \"Attendees\" : list(set(attendee_list)),\n",
    "                 \"Summary\" : event[\"summary\"]})\n",
    "        except Exception as E:\n",
    "            count+=1\n",
    "    print('No of exceptions are: ',count)\n",
    "    return events_list\n",
    "\n",
    "# Tool 2: Meeting Scheduler (Hypothetical - this would interact with Google Calendar API to create an event)\n",
    "def schedule_meeting_tool(summary: str, start_time: str, end_time: str, attendees: List[str], location: str = \"\") -> dict:\n",
    "    \"\"\"\n",
    "    Schedules a meeting in Google Calendar.\n",
    "    This would be an API call to create a new calendar event.\n",
    "    \"\"\"\n",
    "    print(f\"DEBUG: Calling schedule_meeting_tool for {summary} at {start_time} to {end_time} with {attendees}\")\n",
    "    # In a real scenario, this would interact with Google Calendar API to create an event.\n",
    "    # For now, just print and return a success message.\n",
    "    return {\n",
    "        \"status\": \"success\",\n",
    "        \"message\": f\"Meeting '{summary}' scheduled from {start_time} to {end_time}.\",\n",
    "        \"scheduled_event_details\": {\n",
    "            \"StartTime\": start_time,\n",
    "            \"EndTime\": end_time,\n",
    "            \"NumAttendees\": len(attendees),\n",
    "            \"Attendees\": attendees,\n",
    "            \"Summary\": summary\n",
    "        }\n",
    "    }\n",
    "\n",
    "# Tool 3: Conflict Resolver / Rescheduler (Hypothetical)\n",
    "def resolve_conflict_tool(meeting_summary: str, conflicted_time: str, alternative_times: List[str]) -> dict:\n",
    "    \"\"\"\n",
    "    Attempts to reschedule a meeting to resolve conflicts.\n",
    "    This would involve checking alternative_times and updating the calendar.\n",
    "    \"\"\"\n",
    "    print(f\"DEBUG: Resolving conflict for {meeting_summary} at {conflicted_time} with alternatives: {alternative_times}\")\n",
    "    # Logic to find the first available alternative and update.\n",
    "    # For this example, we'll just pick the first alternative\n",
    "    if alternative_times:\n",
    "        new_time = alternative_times[0]\n",
    "        return {\"status\": \"resolved\", \"new_time\": new_time, \"message\": f\"Meeting rescheduled to {new_time}\"}\n",
    "    return {\"status\": \"failed\", \"message\": \"No alternative times provided.\"}\n",
    "\n",
    "\n",
    "# --- LLM Interaction Function ---\n",
    "def call_llm_for_decision(prompt: str) -> dict:\n",
    "    \"\"\"\n",
    "    Calls the vLLM server to get a response and parse the JSON decision.\n",
    "    \"\"\"\n",
    "    print(\"DEBUG: Calling LLM for reasoning and action selection...\")\n",
    "\n",
    "    # headers = {\"Content-Type\": \"application/json\"}\n",
    "    # vllm_url = \"http://localhost:8000/v1\" # Adjust this URL to your vLLM server endpoint if different\n",
    "    \n",
    "    # payload = {\n",
    "    #     \"prompt\": prompt,\n",
    "    #     \"max_tokens\": 500,  # Adjust as needed\n",
    "    #     \"temperature\": 0.1,\n",
    "    #     \"stop\": [\"}}\", \"```\"] # Adjust stop tokens if your LLM output format is different\n",
    "    # }\n",
    "\n",
    "    try:\n",
    "\n",
    "        # response = llm.in\n",
    "        \n",
    "        # response = requests.post(vllm_url, headers=headers, json=payload, timeout=8) # 8-second timeout for LLM\n",
    "        # response.raise_for_status()\n",
    "        llm_output = llm.invoke(prompt)\n",
    "        print(f\"DEBUG: LLM Raw Output: {llm_output}\")\n",
    "\n",
    "        # Attempt to parse the LLM's JSON output\n",
    "        json_start = llm_output.find('{')\n",
    "        json_end = llm_output.rfind('}')\n",
    "        if json_start != -1 and json_end != -1:\n",
    "            json_str = llm_output[json_start : json_end + 1]\n",
    "            llm_decision = json.loads(json_str)\n",
    "            return {\"llm_response\": llm_output, \"llm_decision\": llm_decision}\n",
    "        else:\n",
    "            raise ValueError(\"LLM output is not a valid JSON structure.\")\n",
    "\n",
    "    except requests.exceptions.RequestException as e:\n",
    "        print(f\"Error calling vLLM server: {e}\")\n",
    "        return {\"llm_response\": f\"Error: {e}\", \"llm_decision\": {\"action\": \"error\", \"message\": f\"vLLM server error: {e}\"}}\n",
    "    except json.JSONDecodeError as e:\n",
    "        print(f\"Error parsing LLM response JSON: {e}\")\n",
    "        return {\"llm_response\": f\"Error parsing JSON: {e}\", \"llm_decision\": {\"action\": \"error\", \"message\": f\"JSON parsing error: {e}\"}}\n",
    "    except ValueError as e:\n",
    "        print(f\"Error: {e}\")\n",
    "        return {\"llm_response\": f\"Error: {e}\", \"llm_decision\": {\"action\": \"error\", \"message\": f\"ValueError: {e}\"}}\n",
    "\n",
    "\n",
    "# --- Main Assistant Logic (replaces LangGraph) ---\n",
    "\n",
    "def your_meeting_assistant(data: dict) -> dict:\n",
    "    \"\"\"\n",
    "    Main function to process meeting requests, fetch calendar data,\n",
    "    use LLM for decision making, and schedule/resolve conflicts.\n",
    "    \"\"\"\n",
    "    request_id = data.get(\"Request_id\", \"\")\n",
    "    datetime_of_request = data.get(\"Datetime\", \"\")\n",
    "    sender_email = data.get(\"From\", \"\")\n",
    "    attendees_emails = [att[\"email\"] for att in data.get(\"Attendees\", [])]\n",
    "    subject = data.get(\"Subject\", \"\")\n",
    "    email_content = data.get(\"EmailContent\", \"\")\n",
    "    location = data.get(\"Location\", \"IISc Bangalore\")\n",
    "    metadata = data.get(\"MetaData\", {})\n",
    "\n",
    "    all_involved_emails = list(set(attendees_emails + [sender_email]))\n",
    "\n",
    "    # --- Step 1: Asynchronously (sequentially in this context) fetch all calendar events ---\n",
    "    all_attendee_events = []\n",
    "    today = datetime.now()\n",
    "    # Fetch events for a reasonable future period, e.g., next 14 days\n",
    "    end_date_fetch = today + timedelta(days=14) \n",
    "    \n",
    "    # Format dates for Google Calendar API (ISO 8601 with offset)\n",
    "    # Ensuring +05:30 IST timezone for all date/time operations as requested\n",
    "    current_time_offset = \"+05:30\" \n",
    "    start_of_day_str = datetime(today.year, today.month, today.day, 0, 0, 0).isoformat(timespec='seconds') + current_time_offset\n",
    "    end_of_period_str = datetime(end_date_fetch.year, end_date_fetch.month, end_date_fetch.day, 23, 59, 59).isoformat(timespec='seconds') + current_time_offset\n",
    "\n",
    "    for email in all_involved_emails:\n",
    "        events_for_email = fetch_calendar_events_tool(email, start_of_day_str, end_of_period_str)\n",
    "        all_attendee_events.extend(events_for_email)\n",
    "    \n",
    "    # Deduplicate the combined list of events\n",
    "    unique_combined_events = []\n",
    "    seen_events_set = set()\n",
    "    for event in all_attendee_events:\n",
    "        event_key = (event.get('StartTime'), event.get('EndTime'), event.get('Summary'), tuple(sorted(event.get('Attendees', []))))\n",
    "        if event_key not in seen_events_set:\n",
    "            unique_combined_events.append(event)\n",
    "            seen_events_set.add(event_key)\n",
    "    \n",
    "    calendar_events = unique_combined_events\n",
    "\n",
    "    # --- Step 2: Prepare prompt for LLM with fetched calendar data ---\n",
    "    formatted_calendar_events = []\n",
    "    if calendar_events:\n",
    "        for event in calendar_events:\n",
    "            formatted_calendar_events.append(f\"- Summary: {event.get('Summary', 'N/A')}, Start: {event.get('StartTime', 'N/A')}, End: {event.get('EndTime', 'N/A')}, Attendees: {', '.join(event.get('Attendees', []))}\")\n",
    "    \n",
    "    calendar_info = \"\\nExisting Calendar Events (for all attendees and sender):\\n\" + \"\\n\".join(formatted_calendar_events) if formatted_calendar_events else \"\\nExisting Calendar Events: None.\"\n",
    "\n",
    "    prompt = f\"\"\"You are an intelligent AI scheduling assistant. Your goal is to autonomously schedule, reschedule, and optimize meetings.\n",
    "    \n",
    "Here is the current meeting request:\n",
    "Request ID: {request_id}\n",
    "From: {sender_email}\n",
    "Attendees: {', '.join(attendees_emails)}\n",
    "Subject: {subject}\n",
    "Content: {email_content}\n",
    "{calendar_info}\n",
    "\n",
    "Current Date and Time: {datetime.now().strftime('%Y-%m-%d %H:%M:%S')}\n",
    "\n",
    "You need to analyze the request, the attendees' calendars, and decide the next best action.\n",
    "**Instructions for your decision:**\n",
    "1.  **Extract Meeting Details:** Determine the meeting's purpose (summary), desired duration, and any time preferences (e.g., \"Thursday\", \"10:00 A.M.\"). If \"Thursday\" is mentioned, assume it's the upcoming Thursday from the current date.\n",
    "2.  **System Outage Priority:** If the **Subject** or **Content** explicitly mentions \"system outage\" or other critical, immediate issues, you must prioritize scheduling the meeting **immediately**, even if it causes a conflict. In such cases, propose the earliest possible slot.\n",
    "3.  **Conflict Resolution & Innovation:**\n",
    "    * Carefully analyze the provided \"Existing Calendar Events\" for all attendees to find a free slot.\n",
    "    * If a conflict exists, propose alternative times that work for all attendees. Be innovative in finding a suitable slot, considering a few days into the future.\n",
    "    * If the request mentions \"important call\" or \"off-hours\" preferences, try to accommodate them.\n",
    "4.  **Action Selection:** Your response must be a JSON object with an 'action' key and an 'arguments' key.\n",
    "\n",
    "Possible actions: \"schedule_meeting\", \"resolve_conflict\", \"final_answer\".\n",
    "\n",
    "Example for scheduling a meeting:\n",
    "{{\n",
    "    \"action\": \"schedule_meeting\",\n",
    "    \"arguments\": {{\n",
    "        \"summary\": \"Meeting Title\",\n",
    "        \"start_time\": \"YYYY-MM-DDTHH:MM:SS+05:30\",\n",
    "        \"end_time\": \"YYYY-MM-DDTHH:MM:SS+05:30\",\n",
    "        \"attendees\": [\"email1@example.com\", \"email2@example.com\"],\n",
    "        \"location\": \"Optional Location\"\n",
    "    }}\n",
    "}}\n",
    "\n",
    "Example for resolving a conflict:\n",
    "{{\n",
    "    \"action\": \"resolve_conflict\",\n",
    "    \"arguments\": {{\n",
    "        \"meeting_summary\": \"Original Meeting Title\",\n",
    "        \"conflicted_time\": \"YYYY-MM-DDTHH:MM:SS+05:30\",\n",
    "        \"alternative_times\": [\"YYYY-MM-DDTHH:MM:SS+05:30\", \"YYYY-MM-DDTHH:MM:SS+05:30\"]\n",
    "    }}\n",
    "}}\n",
    "\n",
    "Example for final answer (when meeting is scheduled or confirmed and you have all details):\n",
    "{{\n",
    "    \"action\": \"final_answer\",\n",
    "    \"arguments\": {{\n",
    "        \"event_start\": \"YYYY-MM-DDTHH:MM:SS+05:30\",\n",
    "        \"event_end\": \"YYYY-MM-DDTHH:MM:SS+05:30\",\n",
    "        \"duration_mins\": \"30\",\n",
    "        \"summary\": \"Agentic AI Project Status Update\"\n",
    "    }}\n",
    "}}\n",
    "\n",
    "**Based on the request and the fetched calendar events, what is your next action and its arguments?**\n",
    "\"\"\"\n",
    "\n",
    "    llm_result = call_llm_for_decision(prompt)\n",
    "    llm_decision = llm_result.get(\"llm_decision\", {\"action\": \"error\", \"message\": \"No decision from LLM.\"})\n",
    "    action = llm_decision.get(\"action\")\n",
    "    arguments = llm_decision.get(\"arguments\", {})\n",
    "\n",
    "    final_event_start = \"\"\n",
    "    final_event_end = \"\"\n",
    "    final_duration_mins = \"\"\n",
    "    final_summary = subject # Default to original subject\n",
    "\n",
    "    # --- Step 3: Execute action based on LLM's decision ---\n",
    "    if action == \"schedule_meeting\":\n",
    "        schedule_result = schedule_meeting_tool(\n",
    "            summary=arguments.get(\"summary\", subject),\n",
    "            start_time=arguments.get(\"start_time\"),\n",
    "            end_time=arguments.get(\"end_time\"),\n",
    "            attendees=arguments.get(\"attendees\", all_involved_emails),\n",
    "            location=arguments.get(\"location\", location)\n",
    "        )\n",
    "        if schedule_result.get(\"status\") == \"success\":\n",
    "            scheduled_details = schedule_result[\"scheduled_event_details\"]\n",
    "            final_event_start = scheduled_details.get(\"StartTime\", \"\")\n",
    "            final_event_end = scheduled_details.get(\"EndTime\", \"\")\n",
    "            final_summary = scheduled_details.get(\"Summary\", subject)\n",
    "            \n",
    "            try:\n",
    "                # Calculate duration, handling potential missing timezone for parsing\n",
    "                start_dt = datetime.fromisoformat(final_event_start.replace('Z', '+00:00'))\n",
    "                end_dt = datetime.fromisoformat(final_event_end.replace('Z', '+00:00'))\n",
    "                final_duration_mins = str(int((end_dt - start_dt).total_seconds() / 60))\n",
    "            except ValueError:\n",
    "                final_duration_mins = \"0\" # Could not parse times\n",
    "            \n",
    "            # Add the newly scheduled event to calendar_events for the final output's attendee events\n",
    "            calendar_events.append(scheduled_details)\n",
    "\n",
    "    elif action == \"resolve_conflict\":\n",
    "        resolve_result = resolve_conflict_tool(\n",
    "            meeting_summary=arguments.get(\"meeting_summary\", subject),\n",
    "            conflicted_time=arguments.get(\"conflicted_time\"),\n",
    "            alternative_times=arguments.get(\"alternative_times\", [])\n",
    "        )\n",
    "        \n",
    "        if resolve_result.get(\"status\") == \"resolved\":\n",
    "            print(f\"DEBUG: Conflict resolved, new time suggested: {resolve_result.get('new_time')}\")\n",
    "            # If a conflict is resolved, we immediately attempt to schedule at the new time.\n",
    "            # We need to derive the duration from the original request or a default.\n",
    "            # For simplicity, let's assume a default duration if not clearly extracted by LLM\n",
    "            # In a real scenario, LLM should extract duration consistently.\n",
    "            duration_from_request = 30 # This should ideally be extracted robustly from EmailContent by LLM\n",
    "            \n",
    "            resolved_start_time = resolve_result.get('new_time')\n",
    "            if resolved_start_time:\n",
    "                try:\n",
    "                    # Calculate end time based on new start time and assumed duration\n",
    "                    # Need to be careful with timezone here for accurate calculation\n",
    "                    start_dt_resolved = datetime.fromisoformat(resolved_start_time.replace('Z', '+00:00'))\n",
    "                    resolved_end_time = (start_dt_resolved + timedelta(minutes=duration_from_request)).isoformat(timespec='seconds') + current_time_offset\n",
    "\n",
    "                    schedule_after_resolve_result = schedule_meeting_tool(\n",
    "                        summary=arguments.get(\"meeting_summary\", subject), # Use original summary\n",
    "                        start_time=resolved_start_time,\n",
    "                        end_time=resolved_end_time,\n",
    "                        attendees=arguments.get(\"attendees\", all_involved_emails), # LLM should provide attendees\n",
    "                        location=arguments.get(\"location\", location) # LLM should provide location\n",
    "                    )\n",
    "                    if schedule_after_resolve_result.get(\"status\") == \"success\":\n",
    "                        scheduled_details = schedule_after_resolve_result[\"scheduled_event_details\"]\n",
    "                        final_event_start = scheduled_details.get(\"StartTime\", \"\")\n",
    "                        final_event_end = scheduled_details.get(\"EndTime\", \"\")\n",
    "                        final_summary = scheduled_details.get(\"Summary\", subject)\n",
    "                        final_duration_mins = str(int((datetime.fromisoformat(final_event_end.replace('Z', '+00:00')) - datetime.fromisoformat(final_event_start.replace('Z', '+00:00'))).total_seconds() / 60))\n",
    "                        calendar_events.append(scheduled_details) # Add new event\n",
    "                except ValueError as e:\n",
    "                    print(f\"ERROR: Could not parse resolved time or calculate end time: {e}\")\n",
    "                    metadata[\"error\"] = f\"Failed to schedule after conflict resolution: {e}\"\n",
    "            else:\n",
    "                metadata[\"error\"] = \"Conflict resolved but no new time provided to schedule.\"\n",
    "        else:\n",
    "            metadata[\"error\"] = \"Conflict resolution failed.\"\n",
    "        \n",
    "    elif action == \"final_answer\":\n",
    "        # LLM directly provided a final answer without needing scheduling\n",
    "        final_event_start = arguments.get(\"event_start\", \"\")\n",
    "        final_event_end = arguments.get(\"event_end\", \"\")\n",
    "        final_duration_mins = arguments.get(\"duration_mins\", \"\")\n",
    "        final_summary = arguments.get(\"summary\", subject)\n",
    "        \n",
    "    elif action == \"error\":\n",
    "        print(f\"Error action from LLM: {llm_decision.get('message')}\")\n",
    "        # Fallback for error or unrecognized action\n",
    "        final_event_start = \"\"\n",
    "        final_event_end = \"\"\n",
    "        final_duration_mins = \"\"\n",
    "        final_summary = subject\n",
    "        metadata[\"error\"] = llm_decision.get('message', \"LLM could not determine a valid action.\")\n",
    "        \n",
    "    else:\n",
    "        print(f\"DEBUG: LLM returned an unexpected action: {action}. Defaulting to no scheduling.\")\n",
    "        final_event_start = \"\"\n",
    "        final_event_end = \"\"\n",
    "        final_duration_mins = \"\"\n",
    "        final_summary = subject\n",
    "        metadata[\"error\"] = f\"LLM returned an unexpected action: {action}\"\n",
    "\n",
    "\n",
    "    # --- Step 4: Format Final Output ---\n",
    "    output_attendees_structured = []\n",
    "    for email in all_involved_emails:\n",
    "        attendee_data = {\"email\": email, \"events\": []}\n",
    "        for event in calendar_events:\n",
    "            # Check if the event's attendees list contains the current email\n",
    "            if email in event.get('Attendees', []):\n",
    "                formatted_event = {\n",
    "                    \"StartTime\": event.get(\"StartTime\", \"\"),\n",
    "                    \"EndTime\": event.get(\"EndTime\", \"\"),\n",
    "                    \"NumAttendees\": event.get(\"NumAttendees\", 0),\n",
    "                    \"Attendees\": event.get(\"Attendees\", []),\n",
    "                    \"Summary\": event.get(\"Summary\", \"\")\n",
    "                }\n",
    "                # Prevent duplicate entries for the same event if it appears multiple times\n",
    "                if formatted_event not in attendee_data[\"events\"]:\n",
    "                    attendee_data[\"events\"].append(formatted_event)\n",
    "        output_attendees_structured.append(attendee_data)\n",
    "\n",
    "    final_output = {\n",
    "        \"Request_id\": request_id,\n",
    "        \"Datetime\": datetime_of_request,\n",
    "        \"Location\": location,\n",
    "        \"From\": sender_email,\n",
    "        \"Attendees\": output_attendees_structured,\n",
    "        \"Subject\": subject,\n",
    "        \"EmailContent\": email_content,\n",
    "        \"EventStart\": final_event_start,\n",
    "        \"EventEnd\": final_event_end,\n",
    "        \"Duration_mins\": final_duration_mins,\n",
    "        \"MetaData\": metadata\n",
    "    }\n",
    "\n",
    "    return final_output\n",
    "\n",
    "data = {\n",
    "    \"Request_id\": \"6118b54f-907b-4451-8d48-dd13d76033a5\",\n",
    "    \"Datetime\": \"19-07-2025T12:34:55\",\n",
    "    \"Location\": \"IISc Bangalore\",\n",
    "    \"From\": \"userone.amd@gmail.com\",\n",
    "    \"Attendees\": [\n",
    "        {\n",
    "            \"email\": \"usertwo.amd@gmail.com\"\n",
    "        },\n",
    "        {\n",
    "            \"email\": \"userthree.amd@gmail.com\"\n",
    "        }\n",
    "    ],\n",
    "    \"Subject\": \"Agentic AI Project Status Update\",\n",
    "    \"EmailContent\": \"Hi team, let's meet on Thursday for 30 minutes to discuss the status of Agentic AI Project.\"\n",
    "}\n",
    "\n",
    "response_data = your_meeting_assistant(data)\n",
    "\n",
    "print(response_data)"
   ]
  }
 ],
 "metadata": {
  "kernelspec": {
   "display_name": "Python 3 (ipykernel)",
   "language": "python",
   "name": "python3"
  },
  "language_info": {
   "codemirror_mode": {
    "name": "ipython",
    "version": 3
   },
   "file_extension": ".py",
   "mimetype": "text/x-python",
   "name": "python",
   "nbconvert_exporter": "python",
   "pygments_lexer": "ipython3",
   "version": "3.12.10"
  }
 },
 "nbformat": 4,
 "nbformat_minor": 5
}
