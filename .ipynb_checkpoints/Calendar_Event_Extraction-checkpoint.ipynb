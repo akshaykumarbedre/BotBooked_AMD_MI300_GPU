{
 "cells": [
  {
   "cell_type": "markdown",
   "id": "ad70f19d",
   "metadata": {},
   "source": [
    "# Google Calendar Event Fetcher\n",
    "\n",
    "#### The Notebook demonstrates how to programmatically retrieve and process Google Calendar events for a given user and date range.\n",
    "\n",
    "##### Key Steps:\n",
    "\n",
    "Authentication: Load user credentials from a token file.\n",
    "\n",
    "API Call: Fetch events between specified start/end dates using the Google Calendar API.\n",
    "\n",
    "Data Processing: Extract event details (start/end times, attendees) and structure them into a clean format.\n",
    "\n",
    "Output: Return a list of events with attendee counts and time slots.\n",
    "```"
   ]
  },
  {
   "cell_type": "markdown",
   "id": "4411255e",
   "metadata": {},
   "source": [
    "### Importing Required Libraries"
   ]
  },
  {
   "cell_type": "code",
   "execution_count": 1,
   "id": "1c82ee6f",
   "metadata": {},
   "outputs": [],
   "source": [
    "import json\n",
    "from datetime import datetime, timezone, timedelta\n",
    "from google.oauth2.credentials import Credentials\n",
    "from googleapiclient.discovery import build"
   ]
  },
  {
   "cell_type": "markdown",
   "id": "e4e1d252",
   "metadata": {},
   "source": [
    "### Defining the retrive_calendar_events Function that includes : \n",
    "#### 1. Authenticating with Google Calendar\n",
    "#### 2. Fetching Events\n",
    "#### 3. Processing Events & Structuring"
   ]
  },
  {
   "cell_type": "code",
   "execution_count": 32,
   "id": "a71a3470",
   "metadata": {},
   "outputs": [],
   "source": [
    "def retrive_calendar_events(user, start, end):\n",
    "    events_list = []\n",
    "    token_path = \"Keys/\"+user.split(\"@\")[0]+\".token\"\n",
    "    user_creds = Credentials.from_authorized_user_file(token_path)\n",
    "    calendar_service = build(\"calendar\", \"v3\", credentials=user_creds)\n",
    "    events_result = calendar_service.events().list(calendarId='primary', timeMin=start,timeMax=end,singleEvents=True,orderBy='startTime').execute()\n",
    "    events = events_result.get('items')\n",
    "\n",
    "    count=0\n",
    "    for event in events : \n",
    "        attendee_list = []\n",
    "        try:\n",
    "            for attendee in event[\"attendees\"]: \n",
    "                attendee_list.append(attendee['email'])\n",
    "        except: \n",
    "            attendee_list.append(\"SELF\")\n",
    "        try:\n",
    "            start_time = event[\"start\"][\"dateTime\"]\n",
    "            end_time = event[\"end\"][\"dateTime\"]\n",
    "            events_list.append(\n",
    "                {\"StartTime\" : start_time, \n",
    "                 \"EndTime\": end_time, \n",
    "                 \"NumAttendees\" :len(set(attendee_list)), \n",
    "                 \"Attendees\" : list(set(attendee_list)),\n",
    "                 \"Summary\" : event[\"summary\"]})\n",
    "        except Exception as E:\n",
    "            count+=1\n",
    "    print('No of exceptions are: ',count)\n",
    "    return events_list"
   ]
  },
  {
   "cell_type": "markdown",
   "id": "e2c46704",
   "metadata": {},
   "source": [
    "### Calling ```retrive_calendar_events``` with Auth Token, Start Date & End Date \n",
    "#### Date Format : YYYY-MM-DD (T) HH:MM:SS +TIMEZONE (+5:30 Indicates IST Time Zone Asia/Kolkata ) "
   ]
  },
  {
   "cell_type": "markdown",
   "id": "2eff8718-643c-447e-89c7-d218b603d12c",
   "metadata": {},
   "source": [
    "### For User One"
   ]
  },
  {
   "cell_type": "code",
   "execution_count": 43,
   "id": "8a76b494",
   "metadata": {},
   "outputs": [
    {
     "name": "stdout",
     "output_type": "stream",
     "text": [
      "No of exceptions are:  55\n"
     ]
    }
   ],
   "source": [
    "event = retrive_calendar_events(\"userone.amd@gmail.com\", '2023-07-17T00:00:00+05:30', '2026-07-17T23:59:59+05:30')"
   ]
  },
  {
   "cell_type": "markdown",
   "id": "3d59631a",
   "metadata": {},
   "source": [
    "### Output that describing sample event : "
   ]
  },
  {
   "cell_type": "code",
   "execution_count": 44,
   "id": "c0adca3c",
   "metadata": {},
   "outputs": [
    {
     "data": {
      "text/plain": [
       "{'StartTime': '2025-06-29T18:00:00+05:30',\n",
       " 'EndTime': '2025-06-30T09:00:00+05:30',\n",
       " 'NumAttendees': 1,\n",
       " 'Attendees': ['SELF'],\n",
       " 'Summary': 'Off Hours'}"
      ]
     },
     "execution_count": 44,
     "metadata": {},
     "output_type": "execute_result"
    }
   ],
   "source": [
    "event[0]"
   ]
  },
  {
   "cell_type": "code",
   "execution_count": 45,
   "id": "65cce1c0",
   "metadata": {},
   "outputs": [
    {
     "data": {
      "text/plain": [
       "{'StartTime': '2026-01-07T18:00:00+05:30',\n",
       " 'EndTime': '2026-01-08T09:00:00+05:30',\n",
       " 'NumAttendees': 1,\n",
       " 'Attendees': ['SELF'],\n",
       " 'Summary': 'Off Hours'}"
      ]
     },
     "execution_count": 45,
     "metadata": {},
     "output_type": "execute_result"
    }
   ],
   "source": [
    "event[-1]"
   ]
  },
  {
   "cell_type": "code",
   "execution_count": 46,
   "id": "d2936c53-e639-486c-90c9-3002c7e221d0",
   "metadata": {},
   "outputs": [
    {
     "data": {
      "text/plain": [
       "195"
      ]
     },
     "execution_count": 46,
     "metadata": {},
     "output_type": "execute_result"
    }
   ],
   "source": [
    "len(event)"
   ]
  },
  {
   "cell_type": "markdown",
   "id": "f8858ac8-e76d-4932-9d3c-dedfd4b988e0",
   "metadata": {},
   "source": [
    "### For User Two"
   ]
  },
  {
   "cell_type": "code",
   "execution_count": 47,
   "id": "ec9cad25-33a2-439d-b554-55766e563af5",
   "metadata": {},
   "outputs": [
    {
     "name": "stdout",
     "output_type": "stream",
     "text": [
      "No of exceptions are:  56\n"
     ]
    }
   ],
   "source": [
    "event = retrive_calendar_events(\"usertwo.amd@gmail.com\", '2023-07-17T00:00:00+05:30', '2026-07-17T23:59:59+05:30')"
   ]
  },
  {
   "cell_type": "markdown",
   "id": "f33cb7a3-bee3-46d1-b78d-68c7a08796e4",
   "metadata": {},
   "source": [
    "### Output that describing sample event : "
   ]
  },
  {
   "cell_type": "code",
   "execution_count": 48,
   "id": "cf630d1c-9778-4519-af28-47c92fbed9fb",
   "metadata": {},
   "outputs": [
    {
     "data": {
      "text/plain": [
       "{'StartTime': '2025-06-22T18:00:00+05:30',\n",
       " 'EndTime': '2025-06-23T09:00:00+05:30',\n",
       " 'NumAttendees': 1,\n",
       " 'Attendees': ['SELF'],\n",
       " 'Summary': 'Off Hours'}"
      ]
     },
     "execution_count": 48,
     "metadata": {},
     "output_type": "execute_result"
    }
   ],
   "source": [
    "event[0]"
   ]
  },
  {
   "cell_type": "code",
   "execution_count": 49,
   "id": "e4e6d9a0-be5f-4b44-911e-cea2e83dad42",
   "metadata": {},
   "outputs": [
    {
     "data": {
      "text/plain": [
       "{'StartTime': '2025-12-27T18:00:00+05:30',\n",
       " 'EndTime': '2025-12-28T09:00:00+05:30',\n",
       " 'NumAttendees': 1,\n",
       " 'Attendees': ['SELF'],\n",
       " 'Summary': 'Off Hours'}"
      ]
     },
     "execution_count": 49,
     "metadata": {},
     "output_type": "execute_result"
    }
   ],
   "source": [
    "event[-1]"
   ]
  },
  {
   "cell_type": "code",
   "execution_count": 50,
   "id": "be37c593-ef30-444d-b7fa-7b8e8cf5405e",
   "metadata": {},
   "outputs": [
    {
     "data": {
      "text/plain": [
       "194"
      ]
     },
     "execution_count": 50,
     "metadata": {},
     "output_type": "execute_result"
    }
   ],
   "source": [
    "len(event)"
   ]
  },
  {
   "cell_type": "code",
   "execution_count": null,
   "id": "6af033d5-11b3-4f4a-9aca-77b16cdb765d",
   "metadata": {},
   "outputs": [],
   "source": []
  },
  {
   "cell_type": "markdown",
   "id": "844da7d4-1895-44a4-973c-09dadf14b25f",
   "metadata": {},
   "source": [
    "### For User One"
   ]
  },
  {
   "cell_type": "code",
   "execution_count": 51,
   "id": "28dc437b-4ed2-4a8d-b74a-991d3d2086d9",
   "metadata": {},
   "outputs": [
    {
     "name": "stdout",
     "output_type": "stream",
     "text": [
      "No of exceptions are:  66\n"
     ]
    }
   ],
   "source": [
    "event = retrive_calendar_events(\"userthree.amd@gmail.com\", '2023-07-17T00:00:00+05:30', '2026-07-17T23:59:59+05:30')"
   ]
  },
  {
   "cell_type": "markdown",
   "id": "544e3dcc-a0cd-454e-853d-e935a22b74da",
   "metadata": {},
   "source": [
    "### Output that describing sample event : "
   ]
  },
  {
   "cell_type": "code",
   "execution_count": 52,
   "id": "c2678595-bb6c-4853-8350-b940b81a6855",
   "metadata": {},
   "outputs": [
    {
     "data": {
      "text/plain": [
       "{'StartTime': '2025-06-02T16:00:00+05:30',\n",
       " 'EndTime': '2025-06-03T07:30:00+05:30',\n",
       " 'NumAttendees': 1,\n",
       " 'Attendees': ['SELF'],\n",
       " 'Summary': 'Off Hours'}"
      ]
     },
     "execution_count": 52,
     "metadata": {},
     "output_type": "execute_result"
    }
   ],
   "source": [
    "event[0]"
   ]
  },
  {
   "cell_type": "code",
   "execution_count": 53,
   "id": "588c4add-5417-4f77-b945-21f221962717",
   "metadata": {},
   "outputs": [
    {
     "data": {
      "text/plain": [
       "{'StartTime': '2025-11-24T16:00:00+05:30',\n",
       " 'EndTime': '2025-11-25T07:30:00+05:30',\n",
       " 'NumAttendees': 1,\n",
       " 'Attendees': ['SELF'],\n",
       " 'Summary': 'Off Hours'}"
      ]
     },
     "execution_count": 53,
     "metadata": {},
     "output_type": "execute_result"
    }
   ],
   "source": [
    "event[-1]"
   ]
  },
  {
   "cell_type": "code",
   "execution_count": 54,
   "id": "d0c08148-ebd0-458f-a3e5-fc3d53c6dffc",
   "metadata": {},
   "outputs": [
    {
     "data": {
      "text/plain": [
       "184"
      ]
     },
     "execution_count": 54,
     "metadata": {},
     "output_type": "execute_result"
    }
   ],
   "source": [
    "len(event)"
   ]
  },
  {
   "cell_type": "code",
   "execution_count": null,
   "id": "ae91cdd4-e425-43f1-b656-867d6a76292c",
   "metadata": {},
   "outputs": [],
   "source": []
  }
 ],
 "metadata": {
  "kernelspec": {
   "display_name": "Python 3 (ipykernel)",
   "language": "python",
   "name": "python3"
  },
  "language_info": {
   "codemirror_mode": {
    "name": "ipython",
    "version": 3
   },
   "file_extension": ".py",
   "mimetype": "text/x-python",
   "name": "python",
   "nbconvert_exporter": "python",
   "pygments_lexer": "ipython3",
   "version": "3.12.10"
  }
 },
 "nbformat": 4,
 "nbformat_minor": 5
}
