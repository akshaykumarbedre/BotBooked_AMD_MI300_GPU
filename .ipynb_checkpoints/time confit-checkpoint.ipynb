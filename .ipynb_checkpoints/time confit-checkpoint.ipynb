{
 "cells": [
  {
   "cell_type": "code",
   "execution_count": 1,
   "id": "ad61eea2-9cc7-4cfd-b127-30ad04595f2d",
   "metadata": {},
   "outputs": [],
   "source": [
    "# Meeting Booking Text Examples\n",
    "# Collection of common phrases used for booking meetings\n",
    "\n",
    "meeting_booking_examples = [\n",
    "    # Immediate/Today\n",
    "    \"I want to book a meeting at 5 PM today\",\n",
    "    \"Can we schedule a meeting for 3 PM this afternoon?\",\n",
    "    \"I need to set up a meeting at 2:30 PM today\",\n",
    "    \n",
    "    # Specific Time Requests\n",
    "    \"I want to book a meeting at 5 PM\",\n",
    "    \"Let's schedule a meeting for 10 AM tomorrow\",\n",
    "    \"I'd like to arrange a meeting at 1 PM on Friday\",\n",
    "    \"Can we meet at 9:30 AM next Tuesday?\",\n",
    "    \n",
    "    # Next Week Requests\n",
    "    \"I want next week 4 day meeting\",\n",
    "    \"I need to schedule a meeting for next week Wednesday\",\n",
    "    \"Let's book a meeting for next Monday at 11 AM\",\n",
    "    \"I want to arrange a meeting next week Friday\",\n",
    "    \n",
    "    # Duration-Specific\n",
    "    \"I need a 30-minute meeting next Thursday\",\n",
    "    \"Can we schedule a 1-hour meeting for next week?\",\n",
    "    \"I want to book a quick 15-minute meeting tomorrow\",\n",
    "    \n",
    "    # Multiple Participants\n",
    "    \"I want to schedule a team meeting for next week\",\n",
    "    \"Let's book a client meeting for Friday at 3 PM\",\n",
    "    \"I need to arrange a project meeting next Tuesday\",\n",
    "    \n",
    "    # Flexible Timing\n",
    "    \"I want to book a meeting sometime next week\",\n",
    "    \"Can we schedule a meeting for early next week?\",\n",
    "    \"I need to set up a meeting before Friday\"\n",
    "]\n"
   ]
  },
  {
   "cell_type": "code",
   "execution_count": 12,
   "id": "c4c66a0a-08a0-4915-a18e-f5755178c008",
   "metadata": {},
   "outputs": [],
   "source": [
    "\n",
    "import re\n",
    "from datetime import datetime, timedelta\n",
    "from dateutil.relativedelta import relativedelta, MO, FR, TU, WE, TH\n",
    "\n",
    "WEEKDAYS = {\n",
    "    'monday': MO,\n",
    "    'tuesday': TU,\n",
    "    'wednesday': WE,\n",
    "    'thursday': TH,\n",
    "    'friday': FR,\n",
    "}\n",
    "\n",
    "def calculate_meeting_time(params, reference_date=None):\n",
    "    \"\"\"\n",
    "    Calculate meeting start and end datetime from parameters.\n",
    "    params: dict with keys 'date', 'time', 'duration' (all optional)\n",
    "    reference_date: datetime, defaults to today\n",
    "    Returns: dict with 'start', 'end' (datetime objects)\n",
    "    \"\"\"\n",
    "    if reference_date is None:\n",
    "        reference_date = datetime.now()\n",
    "    # Parse date\n",
    "    date_str = params.get('date', '').lower()\n",
    "    time_str = params.get('time', '')\n",
    "    duration_str = params.get('duration', '')\n",
    "\n",
    "    # Default start date\n",
    "    start_date = reference_date\n",
    "    # Handle relative dates\n",
    "    if 'next week' in date_str:\n",
    "        start_date += relativedelta(weeks=+1, weekday=MO(+1))\n",
    "    elif 'tomorrow' in date_str:\n",
    "        start_date += timedelta(days=1)\n",
    "    elif 'today' in date_str:\n",
    "        pass\n",
    "    else:\n",
    "        for wd in WEEKDAYS:\n",
    "            if wd in date_str:\n",
    "                # Find next weekday\n",
    "                start_date += relativedelta(weekday=WEEKDAYS[wd](+1))\n",
    "                break\n",
    "    # Parse time\n",
    "    match = re.search(r'(\\d{1,2})(:(\\d{2}))?\\s*(am|pm)?', time_str.lower())\n",
    "    hour, minute = 9, 0  # default\n",
    "    if match:\n",
    "        hour = int(match.group(1))\n",
    "        minute = int(match.group(3) or 0)\n",
    "        if match.group(4) == 'pm' and hour < 12:\n",
    "            hour += 12\n",
    "        elif match.group(4) == 'am' and hour == 12:\n",
    "            hour = 0\n",
    "    start_dt = start_date.replace(hour=hour, minute=minute, second=0, microsecond=0)\n",
    "    # Parse duration\n",
    "    duration_minutes = 30  # default\n",
    "    dur_match = re.search(r'(\\d+)[-\\s]?(minute|hour)', duration_str.lower())\n",
    "    if dur_match:\n",
    "        val = int(dur_match.group(1))\n",
    "        if dur_match.group(2) == 'hour':\n",
    "            duration_minutes = val * 60\n",
    "        else:\n",
    "            duration_minutes = val\n",
    "    end_dt = start_dt + timedelta(minutes=duration_minutes)\n",
    "    return {'start': start_dt, 'end': end_dt}\n",
    "\n"
   ]
  },
  {
   "cell_type": "code",
   "execution_count": 28,
   "id": "654998af-47fc-4b32-a9fb-56714186445a",
   "metadata": {},
   "outputs": [],
   "source": [
    "from pydantic import BaseModel, Field\n",
    "\n",
    "from langchain_openai import ChatOpenAI\n",
    "llm = ChatOpenAI(\n",
    "        model=\"Qwen/Qwen3-4B\",\n",
    "        temperature=0,\n",
    "        max_tokens=None,\n",
    "        timeout=None,\n",
    "        max_retries=2,\n",
    "        api_key=\"abc-123\",  # if you prefer to pass api key in directly instaed of using env vars\n",
    "        base_url=\"http://localhost:8000/v1/\",\n",
    "\n",
    "        # organization=\"...\",\n",
    "        # other params...\n",
    "        \n",
    "    )\n",
    "class MeetingParams(BaseModel):\n",
    "        \"\"\"\n",
    "        Meeting parameters for booking a meeting.\n",
    "\n",
    "        This schema is designed for LLM extraction from user queries about meetings.\n",
    "        - 'date': Accepts natural language (e.g., 'next Monday', 'tomorrow', temporal expressions ). Note: only in enhlihs word/\n",
    "        \n",
    "        - 'time': Accepts time expressions (e.g., '3 PM', '10:30 AM', 'afternoon').\n",
    "        - 'duration': Accepts durations (e.g., '30 minutes', '1 hour', 'quick').\n",
    "        - 'type': Accepts meeting type (e.g., 'team', 'client', 'project', 'HR').\n",
    "\n",
    "        The LLM should extract these fields from user queries, considering office phrasing and context.\n",
    "        consider the week starting on Monday - frinday.\n",
    "        \"\"\"\n",
    "        temporal_expressions: str = Field(default=\"\", description=\"temporal expressions  of the meeting english word only, e.g., 'next Monday', 'tomorrow'\")\n",
    "        time: str = Field(default=\"\", description=\"Time of the meeting english word only, e.g., '3 PM', '10 AM tomorrow', 'afternoon'\")\n",
    "        duration: str = Field(default=\"\", description=\"Duration of the meeting english word only, e.g., '30 minutes', '1 hour', 'quick'\")\n",
    "        type: str = Field(default=\"\", description=\"Type of the meeting, e.g., 'team', 'client', 'project', 'HR'\")\n",
    "    \n",
    "new_llm=llm.with_structured_output(MeetingParams)\n",
    "example=\"book half hr meeting this  week \"\n",
    "result = new_llm.invoke(example)\n",
    "meeting_times = calculate_meeting_time(result.model_dump())"
   ]
  },
  {
   "cell_type": "code",
   "execution_count": 29,
   "id": "456ba1cc-ab52-46a8-a5f7-adba9789b341",
   "metadata": {},
   "outputs": [
    {
     "data": {
      "text/plain": [
       "MeetingParams(temporal_expressions='this week', time='half hr', duration='meeting', type='meeting')"
      ]
     },
     "execution_count": 29,
     "metadata": {},
     "output_type": "execute_result"
    }
   ],
   "source": [
    "result"
   ]
  },
  {
   "cell_type": "code",
   "execution_count": 30,
   "id": "06da6c10-b0ab-4c28-9186-5a5b7375aa84",
   "metadata": {},
   "outputs": [
    {
     "data": {
      "text/plain": [
       "{'start': datetime.datetime(2025, 7, 20, 9, 0),\n",
       " 'end': datetime.datetime(2025, 7, 20, 9, 30)}"
      ]
     },
     "execution_count": 30,
     "metadata": {},
     "output_type": "execute_result"
    }
   ],
   "source": [
    "meeting_times"
   ]
  },
  {
   "cell_type": "code",
   "execution_count": 14,
   "id": "56b22a70-1fa1-434d-8b11-50ac8c10f12c",
   "metadata": {},
   "outputs": [
    {
     "name": "stdout",
     "output_type": "stream",
     "text": [
      "Input: book half hr meeting next week \n",
      "Params: date='2023-10-25' time='14:00' duration='30' type='meeting'\n",
      "Meeting Times: {'start': datetime.datetime(2025, 7, 20, 14, 0), 'end': datetime.datetime(2025, 7, 20, 14, 30)}\n",
      "\n"
     ]
    }
   ],
   "source": [
    "test_examples = [\n",
    "    # \"Please book a video call with the client for next Wednesday at 3 PM.\",\n",
    "    # \"Can we set up a quick 15-minute meeting tomorrow to catch up on the project?\",\n",
    "    # \"Please arrange a team meeting next Monday to review the quarterly goals.\",\n",
    "    # \"Schedule an emergency call ASAP to discuss the system outage.\",\n",
    "    \"book half hr meeting next week \",\n",
    "]\n",
    "\n",
    "for example in test_examples:\n",
    "    \n",
    "    print(f\"Input: {example}\\nParams: {result}\\nMeeting Times: {meeting_times}\\n\")"
   ]
  },
  {
   "cell_type": "code",
   "execution_count": null,
   "id": "be39ce07-f498-4a7f-a28f-64d1747ccd67",
   "metadata": {},
   "outputs": [],
   "source": []
  }
 ],
 "metadata": {
  "kernelspec": {
   "display_name": "Python 3 (ipykernel)",
   "language": "python",
   "name": "python3"
  },
  "language_info": {
   "codemirror_mode": {
    "name": "ipython",
    "version": 3
   },
   "file_extension": ".py",
   "mimetype": "text/x-python",
   "name": "python",
   "nbconvert_exporter": "python",
   "pygments_lexer": "ipython3",
   "version": "3.12.10"
  }
 },
 "nbformat": 4,
 "nbformat_minor": 5
}
